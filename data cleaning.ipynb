{
 "cells": [
  {
   "attachments": {},
   "cell_type": "markdown",
   "metadata": {},
   "source": [
    "## **Latar Belakang**\n",
    "Perusahaan transportasi umum jakarta ingin mencari investor untuk pengembangan tranportasi umum disuatu daerah yang sudah ditetapkan. Perusahaan tersebut melakukan survey terhadap rute dan jenis transportasi yang memiliki jumlah penumpang yang ramai. Perusahaan menetapkan daerah yang ingin dilakukan pengembangan yaitu dekat dengan Kawasan Industri Pulo Gadung (JIEP). Perusahaan menetapkan daerah tersebut karena mamiliki potensi kuat unutk pengembangan karena dekat dengan kawasan industri dan banyak masyarakat yang bekerja di daerah tersebut. Dengan itu, perusahaan ingin melihat bagaimana grafik penumpang yang melewati rute Pulo Gadung."
   ]
  },
  {
   "attachments": {},
   "cell_type": "markdown",
   "metadata": {},
   "source": [
    "## **Pernyataan Masalah**\n",
    "Perusahaan ingin mengetahui **rute dan jenis tranportasi mana saja yang memiliki potensi paling tinggi serta jumlah penumpang yang padat** untuk dijadikan tujuan dalam pengembangan transportasi umum agar masyarakat nyaman menggunakan transportasi umum sekitar daerah Pulo Gadung. Informasi ini berguna agar tidak salah sasaran dalam pengembangan transportasi agar investor tertarik untuk melakukan investasi.\n",
    "\n",
    "#### Batasan Masalah\n",
    "Dataset yang ada hanya tahun 2021 dimana sedang diberlakukan PPKM akibat wabah Covid-19.\n",
    "\n"
   ]
  },
  {
   "attachments": {},
   "cell_type": "markdown",
   "metadata": {},
   "source": [
    "## **Library**"
   ]
  },
  {
   "cell_type": "code",
   "execution_count": 41,
   "metadata": {},
   "outputs": [],
   "source": [
    "import numpy as np\n",
    "import pandas as pd\n",
    "import missingno as msn\n"
   ]
  },
  {
   "attachments": {},
   "cell_type": "markdown",
   "metadata": {},
   "source": [
    "## **Data Preparation**"
   ]
  },
  {
   "attachments": {},
   "cell_type": "markdown",
   "metadata": {},
   "source": [
    "Dataset ini berisikan informasi mengenai data penumpang dan rute yang dilalui TransJakarta 2021.\n",
    "<br><br>\n",
    "Terdapat 6 kolom yang ada pada dataset ini, yaitu:\n",
    "- tahun: year of the data is collected.\n",
    "- bulan: month of the data is collected.\n",
    "- jenis: type of vehicle.\n",
    "- kode_trayek: route code.\n",
    "- trayek: route.\n",
    "- jumlah_penumpang: the number of passengers.\n",
    "\n",
    "\n",
    "Berikut 5 baris teratas dan terbawah dari dataset Transjakarta Passanger"
   ]
  },
  {
   "cell_type": "code",
   "execution_count": 42,
   "metadata": {},
   "outputs": [
    {
     "data": {
      "text/html": [
       "<div>\n",
       "<style scoped>\n",
       "    .dataframe tbody tr th:only-of-type {\n",
       "        vertical-align: middle;\n",
       "    }\n",
       "\n",
       "    .dataframe tbody tr th {\n",
       "        vertical-align: top;\n",
       "    }\n",
       "\n",
       "    .dataframe thead th {\n",
       "        text-align: right;\n",
       "    }\n",
       "</style>\n",
       "<table border=\"1\" class=\"dataframe\">\n",
       "  <thead>\n",
       "    <tr style=\"text-align: right;\">\n",
       "      <th></th>\n",
       "      <th>tahun</th>\n",
       "      <th>bulan</th>\n",
       "      <th>jenis</th>\n",
       "      <th>kode_trayek</th>\n",
       "      <th>trayek</th>\n",
       "      <th>jumlah_penumpang</th>\n",
       "    </tr>\n",
       "  </thead>\n",
       "  <tbody>\n",
       "    <tr>\n",
       "      <th>0</th>\n",
       "      <td>2021</td>\n",
       "      <td>10</td>\n",
       "      <td>Mikrotrans</td>\n",
       "      <td>JAK.88</td>\n",
       "      <td>Terminal Tanjung Priok - Ancol Barat</td>\n",
       "      <td>31197</td>\n",
       "    </tr>\n",
       "    <tr>\n",
       "      <th>1</th>\n",
       "      <td>2021</td>\n",
       "      <td>10</td>\n",
       "      <td>Mikrotrans</td>\n",
       "      <td>JAK.85</td>\n",
       "      <td>Bintara - Cipinang Indah</td>\n",
       "      <td>30711</td>\n",
       "    </tr>\n",
       "    <tr>\n",
       "      <th>2</th>\n",
       "      <td>2021</td>\n",
       "      <td>10</td>\n",
       "      <td>Mikrotrans</td>\n",
       "      <td>JAK.84</td>\n",
       "      <td>Terminal Kampung Melayu - Kapin Raya</td>\n",
       "      <td>40186</td>\n",
       "    </tr>\n",
       "    <tr>\n",
       "      <th>3</th>\n",
       "      <td>2021</td>\n",
       "      <td>10</td>\n",
       "      <td>Mikrotrans</td>\n",
       "      <td>JAK.80</td>\n",
       "      <td>Rawa Buaya - Rawa Kompeni</td>\n",
       "      <td>61883</td>\n",
       "    </tr>\n",
       "    <tr>\n",
       "      <th>4</th>\n",
       "      <td>2021</td>\n",
       "      <td>10</td>\n",
       "      <td>Mikrotrans</td>\n",
       "      <td>JA.77</td>\n",
       "      <td>Tanjung Priok - Jembatan Item</td>\n",
       "      <td>66616</td>\n",
       "    </tr>\n",
       "  </tbody>\n",
       "</table>\n",
       "</div>"
      ],
      "text/plain": [
       "   tahun  bulan       jenis kode_trayek                                trayek   \n",
       "0  2021   10     Mikrotrans  JAK.88      Terminal Tanjung Priok - Ancol Barat  \\\n",
       "1  2021   10     Mikrotrans  JAK.85      Bintara - Cipinang Indah               \n",
       "2  2021   10     Mikrotrans  JAK.84      Terminal Kampung Melayu - Kapin Raya   \n",
       "3  2021   10     Mikrotrans  JAK.80      Rawa Buaya - Rawa Kompeni              \n",
       "4  2021   10     Mikrotrans  JA.77       Tanjung Priok - Jembatan Item          \n",
       "\n",
       "   jumlah_penumpang  \n",
       "0  31197             \n",
       "1  30711             \n",
       "2  40186             \n",
       "3  61883             \n",
       "4  66616             "
      ]
     },
     "metadata": {},
     "output_type": "display_data"
    },
    {
     "data": {
      "text/html": [
       "<div>\n",
       "<style scoped>\n",
       "    .dataframe tbody tr th:only-of-type {\n",
       "        vertical-align: middle;\n",
       "    }\n",
       "\n",
       "    .dataframe tbody tr th {\n",
       "        vertical-align: top;\n",
       "    }\n",
       "\n",
       "    .dataframe thead th {\n",
       "        text-align: right;\n",
       "    }\n",
       "</style>\n",
       "<table border=\"1\" class=\"dataframe\">\n",
       "  <thead>\n",
       "    <tr style=\"text-align: right;\">\n",
       "      <th></th>\n",
       "      <th>tahun</th>\n",
       "      <th>bulan</th>\n",
       "      <th>jenis</th>\n",
       "      <th>kode_trayek</th>\n",
       "      <th>trayek</th>\n",
       "      <th>jumlah_penumpang</th>\n",
       "    </tr>\n",
       "  </thead>\n",
       "  <tbody>\n",
       "    <tr>\n",
       "      <th>1468</th>\n",
       "      <td>2021</td>\n",
       "      <td>11</td>\n",
       "      <td>Angkutan Umum Integrasi</td>\n",
       "      <td>11Q</td>\n",
       "      <td>Kampung Melayu - Pulo Gebang via BKT</td>\n",
       "      <td>11353</td>\n",
       "    </tr>\n",
       "    <tr>\n",
       "      <th>1469</th>\n",
       "      <td>2021</td>\n",
       "      <td>11</td>\n",
       "      <td>Angkutan Umum Integrasi</td>\n",
       "      <td>11D</td>\n",
       "      <td>Pulo Gebang - Pulo Gadung 2 via PIK</td>\n",
       "      <td>59155</td>\n",
       "    </tr>\n",
       "    <tr>\n",
       "      <th>1470</th>\n",
       "      <td>2021</td>\n",
       "      <td>11</td>\n",
       "      <td>Angkutan Umum Integrasi</td>\n",
       "      <td>10K</td>\n",
       "      <td>Tanjung Priok - Senen via Taman  BMW</td>\n",
       "      <td>34498</td>\n",
       "    </tr>\n",
       "    <tr>\n",
       "      <th>1471</th>\n",
       "      <td>2021</td>\n",
       "      <td>11</td>\n",
       "      <td>Angkutan Umum Integrasi</td>\n",
       "      <td>GR4</td>\n",
       "      <td>Taman Kota Intan - Museum Bahari</td>\n",
       "      <td>4</td>\n",
       "    </tr>\n",
       "    <tr>\n",
       "      <th>1472</th>\n",
       "      <td>2021</td>\n",
       "      <td>11</td>\n",
       "      <td>Angkutan Umum Integrasi</td>\n",
       "      <td>GR5</td>\n",
       "      <td>Kota Tua Explorer</td>\n",
       "      <td>3</td>\n",
       "    </tr>\n",
       "  </tbody>\n",
       "</table>\n",
       "</div>"
      ],
      "text/plain": [
       "      tahun  bulan                    jenis kode_trayek   \n",
       "1468  2021   11     Angkutan Umum Integrasi  11Q         \\\n",
       "1469  2021   11     Angkutan Umum Integrasi  11D          \n",
       "1470  2021   11     Angkutan Umum Integrasi  10K          \n",
       "1471  2021   11     Angkutan Umum Integrasi  GR4          \n",
       "1472  2021   11     Angkutan Umum Integrasi  GR5          \n",
       "\n",
       "                                    trayek  jumlah_penumpang  \n",
       "1468  Kampung Melayu - Pulo Gebang via BKT  11353             \n",
       "1469  Pulo Gebang - Pulo Gadung 2 via PIK   59155             \n",
       "1470  Tanjung Priok - Senen via Taman  BMW  34498             \n",
       "1471  Taman Kota Intan - Museum Bahari      4                 \n",
       "1472  Kota Tua Explorer                     3                 "
      ]
     },
     "metadata": {},
     "output_type": "display_data"
    }
   ],
   "source": [
    "df = pd.read_csv('TransJakarta Passengers 2021.csv')\n",
    "display(df.head(), df.tail())"
   ]
  },
  {
   "attachments": {},
   "cell_type": "markdown",
   "metadata": {},
   "source": [
    "## **Data Cleansing**"
   ]
  },
  {
   "attachments": {},
   "cell_type": "markdown",
   "metadata": {},
   "source": [
    "Sebelum masuk analisis perlu mengetahui dataset yang dimiliki. Proses ini dilakukan untuk mengetahui penyimpangan apa saja yang ada pada dataset dan perlu ditangani dalam data cleaning.\n",
    "\n",
    "Pertama kita akan melihat informasi jumlah kolom, jumlah baris, tipe data, serta data duplikat yang ada pada  dataset Transjakarta Passenger 2021."
   ]
  },
  {
   "cell_type": "code",
   "execution_count": 43,
   "metadata": {},
   "outputs": [
    {
     "name": "stdout",
     "output_type": "stream",
     "text": [
      "Jumlah baris dan kolom di dataset df adalah (1473, 6)\n",
      "<class 'pandas.core.frame.DataFrame'>\n",
      "RangeIndex: 1473 entries, 0 to 1472\n",
      "Data columns (total 6 columns):\n",
      " #   Column            Non-Null Count  Dtype \n",
      "---  ------            --------------  ----- \n",
      " 0   tahun             1473 non-null   int64 \n",
      " 1   bulan             1473 non-null   int64 \n",
      " 2   jenis             1473 non-null   object\n",
      " 3   kode_trayek       1473 non-null   object\n",
      " 4   trayek            1471 non-null   object\n",
      " 5   jumlah_penumpang  1473 non-null   int64 \n",
      "dtypes: int64(3), object(3)\n",
      "memory usage: 69.2+ KB\n"
     ]
    }
   ],
   "source": [
    "print(f'Jumlah baris dan kolom di dataset df adalah {df.shape}')\n",
    "df.info()"
   ]
  },
  {
   "cell_type": "code",
   "execution_count": 44,
   "metadata": {},
   "outputs": [
    {
     "data": {
      "text/html": [
       "<div>\n",
       "<style scoped>\n",
       "    .dataframe tbody tr th:only-of-type {\n",
       "        vertical-align: middle;\n",
       "    }\n",
       "\n",
       "    .dataframe tbody tr th {\n",
       "        vertical-align: top;\n",
       "    }\n",
       "\n",
       "    .dataframe thead th {\n",
       "        text-align: right;\n",
       "    }\n",
       "</style>\n",
       "<table border=\"1\" class=\"dataframe\">\n",
       "  <thead>\n",
       "    <tr style=\"text-align: right;\">\n",
       "      <th></th>\n",
       "      <th>feature</th>\n",
       "      <th>data_type</th>\n",
       "      <th>null_value</th>\n",
       "      <th>%null_value</th>\n",
       "      <th>n_unique</th>\n",
       "      <th>sample_unique</th>\n",
       "    </tr>\n",
       "  </thead>\n",
       "  <tbody>\n",
       "    <tr>\n",
       "      <th>0</th>\n",
       "      <td>tahun</td>\n",
       "      <td>int64</td>\n",
       "      <td>0</td>\n",
       "      <td>0.000000</td>\n",
       "      <td>1</td>\n",
       "      <td>[2021]</td>\n",
       "    </tr>\n",
       "    <tr>\n",
       "      <th>1</th>\n",
       "      <td>bulan</td>\n",
       "      <td>int64</td>\n",
       "      <td>0</td>\n",
       "      <td>0.000000</td>\n",
       "      <td>12</td>\n",
       "      <td>[10, 8, 3, 6, 1, 5, 12, 9, 2, 7, 4, 11]</td>\n",
       "    </tr>\n",
       "    <tr>\n",
       "      <th>2</th>\n",
       "      <td>jenis</td>\n",
       "      <td>object</td>\n",
       "      <td>0</td>\n",
       "      <td>0.000000</td>\n",
       "      <td>3</td>\n",
       "      <td>[Mikrotrans, BRT, Angkutan Umum Integrasi]</td>\n",
       "    </tr>\n",
       "    <tr>\n",
       "      <th>3</th>\n",
       "      <td>kode_trayek</td>\n",
       "      <td>object</td>\n",
       "      <td>0</td>\n",
       "      <td>0.000000</td>\n",
       "      <td>135</td>\n",
       "      <td>[JAK.88, JAK.85, JAK.84, JAK.80, JA.77, JAK.75, JAK.74, JAK.73, JAK.72, JAK.71, JAK.64, JAK.61, JAK.60, JAK.59, JAK.58, JAK.56, JAK.54, JAK.53, JAK.52, JAK.51, JAK.50, JAK.49, JAK.47, JAK.46, JAK.45, JAK.44, JAK.43, JAK.42, JAK.41, JAK.40, JAK.39, JAK.38, JAK.37, JAK.36, JAK.35, JAK.34, JAK.33, JAK.32, JAK.31, JAK.30, JAK.29, JAK.28, JAK.27, JAK.26, JAK.25, JAK.24, JAK.22, JAK.21, JAK.20, JAK,19, JAK.18, JAK.17, JAK.16, JAK.15, JAK.14, JAK.13, JAK.12, JAK.117, JAK.112, JAK.11, JAK.10, JAK.09, JAK.08, JAK.07, JAK.06, JAK.05, JAK.04, JAK.03, JAK.02, JAK.01, 9, 8, 7, 6, 5, 4, 3, 2, 13, 12, 11, 10, 1, 9H, 9E, 9D, 8K, 8E, 8D, 8C, 7P, 7D, 7B, 7A, 6R, 6N, 6M, 6H, 6C, 5M, ...]</td>\n",
       "    </tr>\n",
       "    <tr>\n",
       "      <th>4</th>\n",
       "      <td>trayek</td>\n",
       "      <td>object</td>\n",
       "      <td>2</td>\n",
       "      <td>0.135777</td>\n",
       "      <td>136</td>\n",
       "      <td>[Terminal Tanjung Priok - Ancol Barat, Bintara - Cipinang Indah, Terminal Kampung Melayu - Kapin Raya, Rawa Buaya - Rawa Kompeni, Tanjung Priok - Jembatan Item, Cililitan - Kp. Pulo, Terminal Rawamangun - Cipinang Muara, Jambore Cibubur - Pasar Rebo, Kampung Rambutan - Pasar Rebo via Poncol, Kampung Rambutan - Pinang Ranti, Lenteng Agung - Aseli, Cempaka Putih - Pulo Gadung via Kelapa Gading, Kelapa Gading - Rusun Kemayoran, Rawamangun - Tanah Merah, Cilingcing - Rorotan, Grogol - Srengseng, Grogol - Benhil, Grogol - Pos Pengumben via Slipi, Kalideres - Muara Angke, Taman Kota - Budi Luhur, Kalideres - Puri Kembangan, Lebak Bulus - Cipulir, Pasar Minggu - Ciganjur via KB Ragunan, Pasar Minggu - Jagakarsa, Lebak Bulus - Ragunan, Andara - Stasiun Universitas Pancasila, Tongtek - Cililitan, Kampung Melayu - Pondok Kelapa, Kampung Melayu - Ppulo Gadung, Harapan Baru - Pulo Gebang via Rawa Kuning, Kalimalang - Duren Sawit, Bulak Ringin - Kampung Rambutan, Cililitan - Condet via Kayu Manis, Cilangkap - Cililitan, Pangkalan  Jati - Rawamangun, Rawamangun - Klender, Pulo Gadung - Kota, Lebak Bulus - Petukangan, Blok M - Andara, Grogol - Meruya via Roxy, Tanjung Priok - Sukapura, Kp. Rambutan - Taman Wiladatika, Pulo Gebang - Rorotan, Rawamangun - Duren Sawit, Kp. Rambutan - Kalisari, Senen - Pulo Gadung via Kelapa Gading, Dwikora - Penas Kalimalang, Cililitan - Dwikora, Cawang UKI - Lubang Buaya, Pinang Ranti - Kampung Rambutan, Kalibata - Kuningan, Senen - Pulo Gadung , Bulak Turi - Tanjung Priok, Tanah Abang - Meruya, Tanah Abang - Kota Intan via Jembatan Lima, Tanah Abang - Kebayoran Lama via Pos Pengumben, Tanjung Priok - Tanah Merdeka, Terminal Tanah Merah - Pulo Gadung, Tanah Abang - Kebayoran Lama , Tanah Abang - Kota , Roxy Mas - Karet, Roxy - Benhil, Tanah Abang - Grogol via Tawakal, Kampung Rambutan - Pondok Gede, Semper - Rorotan, Grogol - Tubagus Angke, Lebak Bulus - Andara, Kampung Melayu - Duren Sawit, Tanjung Priok - Plumpang, Pinang Ranti - Pluit, Lebak Bulus - Harmoni, Kampung Rambutan - Kampung Melayu, Ragunan - Dukuh Atas 2, Kampung Melayu - Ancol, Pulo Gadung 2 - Tosari, Kalideres - Pasar Baru, Pulo Gadung 1 - Harmoni, Ciledug - Tendean, Penjaringan - Sunter Bouleverd Barat, Pulo Gebang - Kampung Melayu, Tanjung Priok - PGC 2, Blok M - Kota, Cipedak - Blok M, Kebayoran Lama - Jelambar, Pasar Minggu - Tanah Abang, Batu Sari-Tanah Abang, Bintaro - Blok M, Joglo - Blok M, Kebayoran Lama - Tanah Abang, Pondok Kelapa - BKN, Pancoran - TMII, Kampung Rambutan - Blok M, Kampung Rambutan - Lebak Bulus, Ragunan - Stasin MRT Fatmawati, Ragunan - Blok M via Kemang, Stasiun Manggarai - Blok  M, Senen - Lebak Bulus, Stasin Tebet - Karet via Patra Kuningan, Kampung Melayu - Tanah Abang via Cikini, Kampung Melayu - Tanah Abang, ...]</td>\n",
       "    </tr>\n",
       "    <tr>\n",
       "      <th>5</th>\n",
       "      <td>jumlah_penumpang</td>\n",
       "      <td>int64</td>\n",
       "      <td>0</td>\n",
       "      <td>0.000000</td>\n",
       "      <td>1420</td>\n",
       "      <td>[31197, 30711, 40186, 61883, 66616, 50363, 50676, 75846, 97831, 57649, 52926, 35233, 69665, 72106, 91654, 49293, 41815, 46344, 65266, 104140, 69097, 44014, 50597, 83425, 48167, 64885, 94923, 71096, 46177, 41534, 63975, 46304, 59214, 64162, 32715, 69978, 51615, 79962, 60715, 133054, 117647, 62587, 51771, 43232, 49474, 80125, 20483, 73032, 53380, 99743, 36622, 51089, 83100, 120526, 91917, 18200, 69299, 93413, 73467, 78213, 49482, 28495, 41236, 56372, 64505, 65429, 50863, 37131, 48317, 65293, 670052, 442361, 376261, 348321, 430590, 274326, 466445, 331229, 307410, 140853, 135543, 369184, 903783, 16256, 16905, 81799, 8122, 18112, 24637, 0, 25384, 20689, 77492, 80151, 25776, 19821, 18839, 93175, 78012, 14392, ...]</td>\n",
       "    </tr>\n",
       "  </tbody>\n",
       "</table>\n",
       "</div>"
      ],
      "text/plain": [
       "            feature data_type  null_value  %null_value  n_unique   \n",
       "0  tahun             int64     0           0.000000     1         \\\n",
       "1  bulan             int64     0           0.000000     12         \n",
       "2  jenis             object    0           0.000000     3          \n",
       "3  kode_trayek       object    0           0.000000     135        \n",
       "4  trayek            object    2           0.135777     136        \n",
       "5  jumlah_penumpang  int64     0           0.000000     1420       \n",
       "\n",
       "                                                                                                                                                                                                                                                                                                                                                                                                                                                                                                                                                                                                                                                                                                                                                                                                                                                                                                                                                                                                                                                                                                                                                                                                                                                                                                                                                                                                                                                                                                                                                                                                                                                                                                                                                                                                                                                                                                                                                                                                                                                                                                                                                                                                                                                                                                                                                                                                                                                                                                                                                                                                                                                                                                                                                                                                                                                                                sample_unique  \n",
       "0  [2021]                                                                                                                                                                                                                                                                                                                                                                                                                                                                                                                                                                                                                                                                                                                                                                                                                                                                                                                                                                                                                                                                                                                                                                                                                                                                                                                                                                                                                                                                                                                                                                                                                                                                                                                                                                                                                                                                                                                                                                                                                                                                                                                                                                                                                                                                                                                                                                                                                                                                                                                                                                                                                                                                                                                                                                                                                                                                                      \n",
       "1  [10, 8, 3, 6, 1, 5, 12, 9, 2, 7, 4, 11]                                                                                                                                                                                                                                                                                                                                                                                                                                                                                                                                                                                                                                                                                                                                                                                                                                                                                                                                                                                                                                                                                                                                                                                                                                                                                                                                                                                                                                                                                                                                                                                                                                                                                                                                                                                                                                                                                                                                                                                                                                                                                                                                                                                                                                                                                                                                                                                                                                                                                                                                                                                                                                                                                                                                                                                                                                                     \n",
       "2  [Mikrotrans, BRT, Angkutan Umum Integrasi]                                                                                                                                                                                                                                                                                                                                                                                                                                                                                                                                                                                                                                                                                                                                                                                                                                                                                                                                                                                                                                                                                                                                                                                                                                                                                                                                                                                                                                                                                                                                                                                                                                                                                                                                                                                                                                                                                                                                                                                                                                                                                                                                                                                                                                                                                                                                                                                                                                                                                                                                                                                                                                                                                                                                                                                                                                                  \n",
       "3  [JAK.88, JAK.85, JAK.84, JAK.80, JA.77, JAK.75, JAK.74, JAK.73, JAK.72, JAK.71, JAK.64, JAK.61, JAK.60, JAK.59, JAK.58, JAK.56, JAK.54, JAK.53, JAK.52, JAK.51, JAK.50, JAK.49, JAK.47, JAK.46, JAK.45, JAK.44, JAK.43, JAK.42, JAK.41, JAK.40, JAK.39, JAK.38, JAK.37, JAK.36, JAK.35, JAK.34, JAK.33, JAK.32, JAK.31, JAK.30, JAK.29, JAK.28, JAK.27, JAK.26, JAK.25, JAK.24, JAK.22, JAK.21, JAK.20, JAK,19, JAK.18, JAK.17, JAK.16, JAK.15, JAK.14, JAK.13, JAK.12, JAK.117, JAK.112, JAK.11, JAK.10, JAK.09, JAK.08, JAK.07, JAK.06, JAK.05, JAK.04, JAK.03, JAK.02, JAK.01, 9, 8, 7, 6, 5, 4, 3, 2, 13, 12, 11, 10, 1, 9H, 9E, 9D, 8K, 8E, 8D, 8C, 7P, 7D, 7B, 7A, 6R, 6N, 6M, 6H, 6C, 5M, ...]                                                                                                                                                                                                                                                                                                                                                                                                                                                                                                                                                                                                                                                                                                                                                                                                                                                                                                                                                                                                                                                                                                                                                                                                                                                                                                                                                                                                                                                                                                                                                                                                                                                                                                                                                                                                                                                                                                                                                                                                                                                                                                                                                                                       \n",
       "4  [Terminal Tanjung Priok - Ancol Barat, Bintara - Cipinang Indah, Terminal Kampung Melayu - Kapin Raya, Rawa Buaya - Rawa Kompeni, Tanjung Priok - Jembatan Item, Cililitan - Kp. Pulo, Terminal Rawamangun - Cipinang Muara, Jambore Cibubur - Pasar Rebo, Kampung Rambutan - Pasar Rebo via Poncol, Kampung Rambutan - Pinang Ranti, Lenteng Agung - Aseli, Cempaka Putih - Pulo Gadung via Kelapa Gading, Kelapa Gading - Rusun Kemayoran, Rawamangun - Tanah Merah, Cilingcing - Rorotan, Grogol - Srengseng, Grogol - Benhil, Grogol - Pos Pengumben via Slipi, Kalideres - Muara Angke, Taman Kota - Budi Luhur, Kalideres - Puri Kembangan, Lebak Bulus - Cipulir, Pasar Minggu - Ciganjur via KB Ragunan, Pasar Minggu - Jagakarsa, Lebak Bulus - Ragunan, Andara - Stasiun Universitas Pancasila, Tongtek - Cililitan, Kampung Melayu - Pondok Kelapa, Kampung Melayu - Ppulo Gadung, Harapan Baru - Pulo Gebang via Rawa Kuning, Kalimalang - Duren Sawit, Bulak Ringin - Kampung Rambutan, Cililitan - Condet via Kayu Manis, Cilangkap - Cililitan, Pangkalan  Jati - Rawamangun, Rawamangun - Klender, Pulo Gadung - Kota, Lebak Bulus - Petukangan, Blok M - Andara, Grogol - Meruya via Roxy, Tanjung Priok - Sukapura, Kp. Rambutan - Taman Wiladatika, Pulo Gebang - Rorotan, Rawamangun - Duren Sawit, Kp. Rambutan - Kalisari, Senen - Pulo Gadung via Kelapa Gading, Dwikora - Penas Kalimalang, Cililitan - Dwikora, Cawang UKI - Lubang Buaya, Pinang Ranti - Kampung Rambutan, Kalibata - Kuningan, Senen - Pulo Gadung , Bulak Turi - Tanjung Priok, Tanah Abang - Meruya, Tanah Abang - Kota Intan via Jembatan Lima, Tanah Abang - Kebayoran Lama via Pos Pengumben, Tanjung Priok - Tanah Merdeka, Terminal Tanah Merah - Pulo Gadung, Tanah Abang - Kebayoran Lama , Tanah Abang - Kota , Roxy Mas - Karet, Roxy - Benhil, Tanah Abang - Grogol via Tawakal, Kampung Rambutan - Pondok Gede, Semper - Rorotan, Grogol - Tubagus Angke, Lebak Bulus - Andara, Kampung Melayu - Duren Sawit, Tanjung Priok - Plumpang, Pinang Ranti - Pluit, Lebak Bulus - Harmoni, Kampung Rambutan - Kampung Melayu, Ragunan - Dukuh Atas 2, Kampung Melayu - Ancol, Pulo Gadung 2 - Tosari, Kalideres - Pasar Baru, Pulo Gadung 1 - Harmoni, Ciledug - Tendean, Penjaringan - Sunter Bouleverd Barat, Pulo Gebang - Kampung Melayu, Tanjung Priok - PGC 2, Blok M - Kota, Cipedak - Blok M, Kebayoran Lama - Jelambar, Pasar Minggu - Tanah Abang, Batu Sari-Tanah Abang, Bintaro - Blok M, Joglo - Blok M, Kebayoran Lama - Tanah Abang, Pondok Kelapa - BKN, Pancoran - TMII, Kampung Rambutan - Blok M, Kampung Rambutan - Lebak Bulus, Ragunan - Stasin MRT Fatmawati, Ragunan - Blok M via Kemang, Stasiun Manggarai - Blok  M, Senen - Lebak Bulus, Stasin Tebet - Karet via Patra Kuningan, Kampung Melayu - Tanah Abang via Cikini, Kampung Melayu - Tanah Abang, ...]  \n",
       "5  [31197, 30711, 40186, 61883, 66616, 50363, 50676, 75846, 97831, 57649, 52926, 35233, 69665, 72106, 91654, 49293, 41815, 46344, 65266, 104140, 69097, 44014, 50597, 83425, 48167, 64885, 94923, 71096, 46177, 41534, 63975, 46304, 59214, 64162, 32715, 69978, 51615, 79962, 60715, 133054, 117647, 62587, 51771, 43232, 49474, 80125, 20483, 73032, 53380, 99743, 36622, 51089, 83100, 120526, 91917, 18200, 69299, 93413, 73467, 78213, 49482, 28495, 41236, 56372, 64505, 65429, 50863, 37131, 48317, 65293, 670052, 442361, 376261, 348321, 430590, 274326, 466445, 331229, 307410, 140853, 135543, 369184, 903783, 16256, 16905, 81799, 8122, 18112, 24637, 0, 25384, 20689, 77492, 80151, 25776, 19821, 18839, 93175, 78012, 14392, ...]                                                                                                                                                                                                                                                                                                                                                                                                                                                                                                                                                                                                                                                                                                                                                                                                                                                                                                                                                                                                                                                                                                                                                                                                                                                                                                                                                                                                                                                                                                                                                                                                                                                                                                                                                                                                                                                                                                                                                                                                                                                                                                                                               "
      ]
     },
     "execution_count": 44,
     "metadata": {},
     "output_type": "execute_result"
    }
   ],
   "source": [
    "pd.set_option('display.max_colwidth', 1)\n",
    "pd.DataFrame(\n",
    "    {\n",
    "    'feature': df.columns.values,\n",
    "    'data_type': df.dtypes.values,\n",
    "    'null_value': [df[col].isna().sum() for col in df.columns],\n",
    "    '%null_value': df.isna().mean().values * 100,\n",
    "    'n_unique': df.nunique().values,\n",
    "    'sample_unique': [df[col].unique() for col in df.columns]\n",
    "    }\n",
    ")"
   ]
  },
  {
   "cell_type": "code",
   "execution_count": 45,
   "metadata": {},
   "outputs": [
    {
     "data": {
      "text/html": [
       "<div>\n",
       "<style scoped>\n",
       "    .dataframe tbody tr th:only-of-type {\n",
       "        vertical-align: middle;\n",
       "    }\n",
       "\n",
       "    .dataframe tbody tr th {\n",
       "        vertical-align: top;\n",
       "    }\n",
       "\n",
       "    .dataframe thead th {\n",
       "        text-align: right;\n",
       "    }\n",
       "</style>\n",
       "<table border=\"1\" class=\"dataframe\">\n",
       "  <thead>\n",
       "    <tr style=\"text-align: right;\">\n",
       "      <th></th>\n",
       "      <th>tahun</th>\n",
       "      <th>bulan</th>\n",
       "      <th>jenis</th>\n",
       "      <th>kode_trayek</th>\n",
       "      <th>trayek</th>\n",
       "      <th>jumlah_penumpang</th>\n",
       "    </tr>\n",
       "  </thead>\n",
       "  <tbody>\n",
       "    <tr>\n",
       "      <th>count</th>\n",
       "      <td>1473.0</td>\n",
       "      <td>1473.000000</td>\n",
       "      <td>1473</td>\n",
       "      <td>1473</td>\n",
       "      <td>1471</td>\n",
       "      <td>1.473000e+03</td>\n",
       "    </tr>\n",
       "    <tr>\n",
       "      <th>unique</th>\n",
       "      <td>NaN</td>\n",
       "      <td>NaN</td>\n",
       "      <td>3</td>\n",
       "      <td>135</td>\n",
       "      <td>136</td>\n",
       "      <td>NaN</td>\n",
       "    </tr>\n",
       "    <tr>\n",
       "      <th>top</th>\n",
       "      <td>NaN</td>\n",
       "      <td>NaN</td>\n",
       "      <td>Mikrotrans</td>\n",
       "      <td>JAK.88</td>\n",
       "      <td>Cililitan - Condet via Kayu Manis</td>\n",
       "      <td>NaN</td>\n",
       "    </tr>\n",
       "    <tr>\n",
       "      <th>freq</th>\n",
       "      <td>NaN</td>\n",
       "      <td>NaN</td>\n",
       "      <td>848</td>\n",
       "      <td>12</td>\n",
       "      <td>24</td>\n",
       "      <td>NaN</td>\n",
       "    </tr>\n",
       "    <tr>\n",
       "      <th>mean</th>\n",
       "      <td>2021.0</td>\n",
       "      <td>6.534963</td>\n",
       "      <td>NaN</td>\n",
       "      <td>NaN</td>\n",
       "      <td>NaN</td>\n",
       "      <td>8.167586e+04</td>\n",
       "    </tr>\n",
       "    <tr>\n",
       "      <th>std</th>\n",
       "      <td>0.0</td>\n",
       "      <td>3.446451</td>\n",
       "      <td>NaN</td>\n",
       "      <td>NaN</td>\n",
       "      <td>NaN</td>\n",
       "      <td>1.265331e+05</td>\n",
       "    </tr>\n",
       "    <tr>\n",
       "      <th>min</th>\n",
       "      <td>2021.0</td>\n",
       "      <td>1.000000</td>\n",
       "      <td>NaN</td>\n",
       "      <td>NaN</td>\n",
       "      <td>NaN</td>\n",
       "      <td>0.000000e+00</td>\n",
       "    </tr>\n",
       "    <tr>\n",
       "      <th>25%</th>\n",
       "      <td>2021.0</td>\n",
       "      <td>4.000000</td>\n",
       "      <td>NaN</td>\n",
       "      <td>NaN</td>\n",
       "      <td>NaN</td>\n",
       "      <td>2.501600e+04</td>\n",
       "    </tr>\n",
       "    <tr>\n",
       "      <th>50%</th>\n",
       "      <td>2021.0</td>\n",
       "      <td>7.000000</td>\n",
       "      <td>NaN</td>\n",
       "      <td>NaN</td>\n",
       "      <td>NaN</td>\n",
       "      <td>4.962800e+04</td>\n",
       "    </tr>\n",
       "    <tr>\n",
       "      <th>75%</th>\n",
       "      <td>2021.0</td>\n",
       "      <td>10.000000</td>\n",
       "      <td>NaN</td>\n",
       "      <td>NaN</td>\n",
       "      <td>NaN</td>\n",
       "      <td>7.513800e+04</td>\n",
       "    </tr>\n",
       "    <tr>\n",
       "      <th>max</th>\n",
       "      <td>2021.0</td>\n",
       "      <td>12.000000</td>\n",
       "      <td>NaN</td>\n",
       "      <td>NaN</td>\n",
       "      <td>NaN</td>\n",
       "      <td>1.131439e+06</td>\n",
       "    </tr>\n",
       "  </tbody>\n",
       "</table>\n",
       "</div>"
      ],
      "text/plain": [
       "         tahun        bulan       jenis kode_trayek   \n",
       "count   1473.0  1473.000000  1473        1473        \\\n",
       "unique NaN     NaN           3           135          \n",
       "top    NaN     NaN           Mikrotrans  JAK.88       \n",
       "freq   NaN     NaN           848         12           \n",
       "mean    2021.0  6.534963     NaN         NaN          \n",
       "std     0.0     3.446451     NaN         NaN          \n",
       "min     2021.0  1.000000     NaN         NaN          \n",
       "25%     2021.0  4.000000     NaN         NaN          \n",
       "50%     2021.0  7.000000     NaN         NaN          \n",
       "75%     2021.0  10.000000    NaN         NaN          \n",
       "max     2021.0  12.000000    NaN         NaN          \n",
       "\n",
       "                                   trayek  jumlah_penumpang  \n",
       "count   1471                               1.473000e+03      \n",
       "unique  136                               NaN                \n",
       "top     Cililitan - Condet via Kayu Manis NaN                \n",
       "freq    24                                NaN                \n",
       "mean    NaN                                8.167586e+04      \n",
       "std     NaN                                1.265331e+05      \n",
       "min     NaN                                0.000000e+00      \n",
       "25%     NaN                                2.501600e+04      \n",
       "50%     NaN                                4.962800e+04      \n",
       "75%     NaN                                7.513800e+04      \n",
       "max     NaN                                1.131439e+06      "
      ]
     },
     "execution_count": 45,
     "metadata": {},
     "output_type": "execute_result"
    }
   ],
   "source": [
    "df.describe(include='all')"
   ]
  },
  {
   "cell_type": "code",
   "execution_count": 46,
   "metadata": {},
   "outputs": [
    {
     "data": {
      "text/html": [
       "<div>\n",
       "<style scoped>\n",
       "    .dataframe tbody tr th:only-of-type {\n",
       "        vertical-align: middle;\n",
       "    }\n",
       "\n",
       "    .dataframe tbody tr th {\n",
       "        vertical-align: top;\n",
       "    }\n",
       "\n",
       "    .dataframe thead th {\n",
       "        text-align: right;\n",
       "    }\n",
       "</style>\n",
       "<table border=\"1\" class=\"dataframe\">\n",
       "  <thead>\n",
       "    <tr style=\"text-align: right;\">\n",
       "      <th></th>\n",
       "      <th>tahun</th>\n",
       "      <th>bulan</th>\n",
       "      <th>jenis</th>\n",
       "      <th>kode_trayek</th>\n",
       "      <th>trayek</th>\n",
       "      <th>jumlah_penumpang</th>\n",
       "    </tr>\n",
       "  </thead>\n",
       "  <tbody>\n",
       "  </tbody>\n",
       "</table>\n",
       "</div>"
      ],
      "text/plain": [
       "Empty DataFrame\n",
       "Columns: [tahun, bulan, jenis, kode_trayek, trayek, jumlah_penumpang]\n",
       "Index: []"
      ]
     },
     "execution_count": 46,
     "metadata": {},
     "output_type": "execute_result"
    }
   ],
   "source": [
    "df[df.duplicated()]"
   ]
  },
  {
   "attachments": {},
   "cell_type": "markdown",
   "metadata": {},
   "source": [
    "Dari informasi diatas didapatkan bahwa:\n",
    "- Dataset Transjakarta Passenger memiliki 6 kolom dan 1473 baris.\n",
    "- Pada kolom `kode_trayek` berisikan unique value dimana setiap data memiliki kode tersendiri\n",
    "- Pada kolom `trayek`, terdapat missing value. Missing value tersebut diwakili dengan data NaN.\n",
    "- Pola data `kode_trayek` dan `trayek` memiliki keterkaitan yang kuat, dimana `kode_trayek` menunjukkan kode untuk `trayek` (rute) Transjakarta pada tahun 2021.\n",
    "- Pada kolom `kode_trayek` terdapat kesalahan penulisan dimana JA.77 seharusnya JAK.77.\n",
    "- Pada kolom `trayek` terdapat beberapa penulisan yang typo, seperti penulisan huruf yang double pada suatu kata.\n",
    "- Tidak terdapat data duplikat dimana data setiap kolom tidak memiliki data yang sama.\n"
   ]
  },
  {
   "attachments": {},
   "cell_type": "markdown",
   "metadata": {},
   "source": [
    "#### **Missing Values**"
   ]
  },
  {
   "cell_type": "code",
   "execution_count": 47,
   "metadata": {},
   "outputs": [
    {
     "data": {
      "text/plain": [
       "tahun               0.000000\n",
       "bulan               0.000000\n",
       "jenis               0.000000\n",
       "kode_trayek         0.000000\n",
       "trayek              0.135777\n",
       "jumlah_penumpang    0.000000\n",
       "dtype: float64"
      ]
     },
     "execution_count": 47,
     "metadata": {},
     "output_type": "execute_result"
    }
   ],
   "source": [
    "# persentase missing value setiap kolom\n",
    "df.isna().sum()/df.shape[0]*100"
   ]
  },
  {
   "cell_type": "code",
   "execution_count": 48,
   "metadata": {},
   "outputs": [
    {
     "data": {
      "text/plain": [
       "<Axes: >"
      ]
     },
     "execution_count": 48,
     "metadata": {},
     "output_type": "execute_result"
    },
    {
     "data": {
      "image/png": "[encoded data removed]",
      "text/plain": [
       "<Figure size 2500x1000 with 2 Axes>"
      ]
     },
     "metadata": {},
     "output_type": "display_data"
    }
   ],
   "source": [
    "msn.matrix(df)"
   ]
  },
  {
   "attachments": {},
   "cell_type": "markdown",
   "metadata": {},
   "source": [
    "Diketahui bahwa terdapat missing value pada kolom `trayek` yang memiliki presentase 0.13%. Dengan data missing value yang hanya 0.13%, bisa saja kita membuang data tersebut. Tetapi, karena data yang hilang menjelaskan data dari kolom `kode_trayek` dan kita dapat menemukan data tersebut dari website official Transjakarta, maka data hilang tersebut dapat diisi dengan data yang sesuai."
   ]
  },
  {
   "cell_type": "code",
   "execution_count": 49,
   "metadata": {},
   "outputs": [
    {
     "data": {
      "text/html": [
       "<div>\n",
       "<style scoped>\n",
       "    .dataframe tbody tr th:only-of-type {\n",
       "        vertical-align: middle;\n",
       "    }\n",
       "\n",
       "    .dataframe tbody tr th {\n",
       "        vertical-align: top;\n",
       "    }\n",
       "\n",
       "    .dataframe thead th {\n",
       "        text-align: right;\n",
       "    }\n",
       "</style>\n",
       "<table border=\"1\" class=\"dataframe\">\n",
       "  <thead>\n",
       "    <tr style=\"text-align: right;\">\n",
       "      <th></th>\n",
       "      <th>tahun</th>\n",
       "      <th>bulan</th>\n",
       "      <th>jenis</th>\n",
       "      <th>kode_trayek</th>\n",
       "      <th>trayek</th>\n",
       "      <th>jumlah_penumpang</th>\n",
       "    </tr>\n",
       "  </thead>\n",
       "  <tbody>\n",
       "    <tr>\n",
       "      <th>795</th>\n",
       "      <td>2021</td>\n",
       "      <td>12</td>\n",
       "      <td>Mikrotrans</td>\n",
       "      <td>JAK.10B</td>\n",
       "      <td>NaN</td>\n",
       "      <td>4085</td>\n",
       "    </tr>\n",
       "    <tr>\n",
       "      <th>796</th>\n",
       "      <td>2021</td>\n",
       "      <td>12</td>\n",
       "      <td>Mikrotrans</td>\n",
       "      <td>JAK.10A</td>\n",
       "      <td>NaN</td>\n",
       "      <td>33992</td>\n",
       "    </tr>\n",
       "  </tbody>\n",
       "</table>\n",
       "</div>"
      ],
      "text/plain": [
       "     tahun  bulan       jenis kode_trayek trayek  jumlah_penumpang\n",
       "795  2021   12     Mikrotrans  JAK.10B     NaN    4085            \n",
       "796  2021   12     Mikrotrans  JAK.10A     NaN    33992           "
      ]
     },
     "execution_count": 49,
     "metadata": {},
     "output_type": "execute_result"
    }
   ],
   "source": [
    "# display nan values\n",
    "df[df.isna().any(axis=1)]"
   ]
  },
  {
   "cell_type": "code",
   "execution_count": 50,
   "metadata": {},
   "outputs": [
    {
     "data": {
      "text/html": [
       "<div>\n",
       "<style scoped>\n",
       "    .dataframe tbody tr th:only-of-type {\n",
       "        vertical-align: middle;\n",
       "    }\n",
       "\n",
       "    .dataframe tbody tr th {\n",
       "        vertical-align: top;\n",
       "    }\n",
       "\n",
       "    .dataframe thead th {\n",
       "        text-align: right;\n",
       "    }\n",
       "</style>\n",
       "<table border=\"1\" class=\"dataframe\">\n",
       "  <thead>\n",
       "    <tr style=\"text-align: right;\">\n",
       "      <th></th>\n",
       "      <th>tahun</th>\n",
       "      <th>bulan</th>\n",
       "      <th>jenis</th>\n",
       "      <th>kode_trayek</th>\n",
       "      <th>trayek</th>\n",
       "      <th>jumlah_penumpang</th>\n",
       "    </tr>\n",
       "  </thead>\n",
       "  <tbody>\n",
       "    <tr>\n",
       "      <th>795</th>\n",
       "      <td>2021</td>\n",
       "      <td>12</td>\n",
       "      <td>Mikrotrans</td>\n",
       "      <td>JAK.10B</td>\n",
       "      <td>Gondangdia - Cikini via Kramat Raya</td>\n",
       "      <td>4085</td>\n",
       "    </tr>\n",
       "    <tr>\n",
       "      <th>796</th>\n",
       "      <td>2021</td>\n",
       "      <td>12</td>\n",
       "      <td>Mikrotrans</td>\n",
       "      <td>JAK.10A</td>\n",
       "      <td>Gondangdia - Cikini via Salemba Raya</td>\n",
       "      <td>33992</td>\n",
       "    </tr>\n",
       "  </tbody>\n",
       "</table>\n",
       "</div>"
      ],
      "text/plain": [
       "     tahun  bulan       jenis kode_trayek   \n",
       "795  2021   12     Mikrotrans  JAK.10B     \\\n",
       "796  2021   12     Mikrotrans  JAK.10A      \n",
       "\n",
       "                                   trayek  jumlah_penumpang  \n",
       "795  Gondangdia - Cikini via Kramat Raya   4085              \n",
       "796  Gondangdia - Cikini via Salemba Raya  33992             "
      ]
     },
     "execution_count": 50,
     "metadata": {},
     "output_type": "execute_result"
    }
   ],
   "source": [
    "# fill nan values in trayek\n",
    "df.loc[796,'trayek'] = 'Gondangdia - Cikini via Salemba Raya'\n",
    "df.loc[795,'trayek'] = 'Gondangdia - Cikini via Kramat Raya'\n",
    "\n",
    "df.loc[[795,796],:]"
   ]
  },
  {
   "attachments": {},
   "cell_type": "markdown",
   "metadata": {},
   "source": [
    "#### **Incorrect Word**"
   ]
  },
  {
   "attachments": {},
   "cell_type": "markdown",
   "metadata": {},
   "source": [
    "Selain missing value, kita menghandle menulisan kata yang salah. Penulisan yang salah dapat menyebabkan data menjadi rancu. Seperti terdapat penambahan white space, mengecek data yang double tetapi tidak pada semua kolom, serta penulisan `kode_trayek` dan `trayek` yang tidak sesuai."
   ]
  },
  {
   "cell_type": "code",
   "execution_count": 51,
   "metadata": {},
   "outputs": [],
   "source": [
    "# Menghapus white space pada kode trayek\n",
    "df['kode_trayek'] = df['kode_trayek'].str.strip()"
   ]
  },
  {
   "cell_type": "code",
   "execution_count": 52,
   "metadata": {},
   "outputs": [],
   "source": [
    "# Menghapus white space pada trayek\n",
    "df['trayek'] = df['trayek'].str.strip()"
   ]
  },
  {
   "cell_type": "code",
   "execution_count": 53,
   "metadata": {},
   "outputs": [
    {
     "data": {
      "text/plain": [
       "kode_trayek\n",
       "1A        2\n",
       "3E        2\n",
       "4         2\n",
       "JAK.01    2\n",
       "JAK.41    2\n",
       "Name: trayek, dtype: int64"
      ]
     },
     "execution_count": 53,
     "metadata": {},
     "output_type": "execute_result"
    }
   ],
   "source": [
    "# cek kode trayek yang memiliki trayek double\n",
    "doubleCode = df.groupby('kode_trayek')['trayek'].nunique()\n",
    "doubleCode[doubleCode > 1]"
   ]
  },
  {
   "cell_type": "code",
   "execution_count": 54,
   "metadata": {},
   "outputs": [
    {
     "data": {
      "text/plain": [
       "trayek\n",
       "Cililitan - Condet via Kayu Manis    2\n",
       "Tanjung Priok - Jembatan Item        2\n",
       "Name: kode_trayek, dtype: int64"
      ]
     },
     "execution_count": 54,
     "metadata": {},
     "output_type": "execute_result"
    }
   ],
   "source": [
    "# cek trayek yang memiliki kode trayek double\n",
    "doubleTrayek = df.groupby('trayek')['kode_trayek'].nunique()\n",
    "doubleTrayek[doubleTrayek > 1]"
   ]
  },
  {
   "cell_type": "code",
   "execution_count": 55,
   "metadata": {},
   "outputs": [],
   "source": [
    "# Handling kode trayek dan trayek yang memiliki values lebih dari 1\n",
    "df.loc[(df['kode_trayek'] == '1A') & (df['trayek'] == 'PIK - Balai Kota'), 'trayek'] = 'Pantai Maju - Balai Kota'\n",
    "df.loc[(df['kode_trayek'] == '3E') & (df['trayek'] == 'Puri Kembangan - Sentraland Cengkareng'), 'trayek'] = 'Sentraland Cengkareng - Puri Kembangan'\n",
    "df.loc[(df['kode_trayek'] == '4') & (df['trayek'] == 'Pulo Ggadung 2 - Tosari'), 'trayek'] = 'Pulo Gadung 2 - Tosari'\n",
    "df.loc[(df['kode_trayek'] == 'JAK.01') & (df['trayek'] == 'Ttanjung Priok - Plumpang'), 'trayek'] = 'Tanjung Priok - Plumpang'\n",
    "df.loc[(df['kode_trayek'] == 'JAK.41') & (df['trayek'] == 'Kampung Melayu - Ppulo Gadung'), 'trayek'] = 'Kampung Melayu - Pulo Gadung'\n",
    "df.loc[(df['kode_trayek'] == 'JAK.16') & (df['trayek'] == 'Cililitan - Condet via Kayu Manis'), 'trayek'] = 'Cililitan - Condet'\n",
    "df.loc[(df['trayek'] == 'Tanjung Priok - Jembatan Item') & (df['kode_trayek'] == 'JA.77'), 'kode_trayek'] = 'JAK.77'"
   ]
  },
  {
   "cell_type": "code",
   "execution_count": 58,
   "metadata": {},
   "outputs": [
    {
     "data": {
      "text/plain": [
       "Series([], Name: trayek, dtype: int64)"
      ]
     },
     "execution_count": 58,
     "metadata": {},
     "output_type": "execute_result"
    }
   ],
   "source": [
    "# memastikan kode_trayek tidak ada yang double\n",
    "doubleCode = df.groupby('kode_trayek')['trayek'].nunique()\n",
    "doubleCode[doubleCode > 1]"
   ]
  },
  {
   "cell_type": "code",
   "execution_count": 59,
   "metadata": {},
   "outputs": [
    {
     "data": {
      "text/plain": [
       "Series([], Name: kode_trayek, dtype: int64)"
      ]
     },
     "execution_count": 59,
     "metadata": {},
     "output_type": "execute_result"
    }
   ],
   "source": [
    "# memastikan trayek tidak ada yang double\n",
    "doubleTrayek = df.groupby('trayek')['kode_trayek'].nunique()\n",
    "doubleTrayek[doubleTrayek > 1]"
   ]
  },
  {
   "cell_type": "code",
   "execution_count": 117,
   "metadata": {},
   "outputs": [],
   "source": [
    "# replace trayek dan kode trayek yang memiliki penulisan yang salah\n",
    "\n",
    "df.loc[(df['kode_trayek'] == 'JAK. 10B') & (df['trayek'] == 'Gondangdia - Cikini via Kramat Jaya'), 'trayek'] = 'Gondangdia - Cikini via Kramat Raya'\n",
    "df.loc[(df['trayek'] == 'Gondangdia - Cikini via Kramat Raya') & (df['kode_trayek'] == 'JAK. 10B'), 'kode_trayek'] = 'JAK.10B'\n",
    "df.loc[(df['trayek'] == 'Pinang Ranti - Kampung Rambutan') & (df['kode_trayek'] == 'JAK,19'), 'kode_trayek'] = 'JAK.19'\n",
    "df.loc[(df['kode_trayek'] == '6R') & (df['trayek'] == 'Ragunan - Stasin MRT Fatmawati'), 'trayek'] = 'Ragunan - Stasiun MRT Fatmawati'\n",
    "df.loc[(df['kode_trayek'] == '6C') & (df['trayek'] == 'Stasin Tebet - Karet via Patra Kuningan'), 'trayek'] = 'Stasiun Tebet - Karet via Patra Kuningan'"
   ]
  },
  {
   "cell_type": "code",
   "execution_count": 61,
   "metadata": {},
   "outputs": [
    {
     "data": {
      "image/png": "[encoded data removed]",
      "text/plain": [
       "<Figure size 1000x500 with 2 Axes>"
      ]
     },
     "metadata": {},
     "output_type": "display_data"
    }
   ],
   "source": [
    "import seaborn as sns\n",
    "import matplotlib.pyplot as plt\n",
    "\n",
    "# Membuat figure dan axes\n",
    "fig, ((ax1), (ax2)) = plt.subplots(nrows=2, ncols=1, figsize=(10,5), sharex=True, gridspec_kw={'height_ratios':[5, 2]})\n",
    "\n",
    "\n",
    "# Menggabungkan displot dan boxplot menggunakan Seaborn\n",
    "sns.histplot( x=df.jumlah_penumpang, kde=True, ax=ax1)  # Menampilkan displot\n",
    "sns.boxplot(x=df.jumlah_penumpang, ax=ax2, color='Blue') # Menampilkan boxplot\n",
    "\n",
    "# Menambahkan garis rata-rata dan median\n",
    "ax1.axvline(x=df['jumlah_penumpang'].mean(), color='red', label=f\"mean: {round(df['jumlah_penumpang'].mean())}\", linestyle='--')\n",
    "ax1.axvline(x=df['jumlah_penumpang'].median(), color='green', label=f\"median: {round(df['jumlah_penumpang'].median())}\", linestyle='--')\n",
    "\n",
    "# Memberikan judul dan label pada sumbu\n",
    "ax1.set_title('Distribusi dan Box Plot', fontsize=14)\n",
    "ax1.set_xlabel('jumlah_penumpang', fontsize=12)\n",
    "\n",
    "# Menampilkan legenda\n",
    "ax1.legend()\n",
    "\n",
    "# Menampilkan plot\n",
    "plt.show()"
   ]
  },
  {
   "cell_type": "code",
   "execution_count": 62,
   "metadata": {},
   "outputs": [
    {
     "data": {
      "image/png": "[encoded data removed]",
      "text/plain": [
       "<Figure size 640x480 with 1 Axes>"
      ]
     },
     "metadata": {},
     "output_type": "display_data"
    }
   ],
   "source": [
    "import statsmodels.api as sm\n",
    "\n",
    "# Membuat QQ plot\n",
    "sm.qqplot(df.jumlah_penumpang, line='s')\n",
    "\n",
    "# Memberikan judul pada plot berdasarkan nama kolom\n",
    "plt.title(f\"QQ Plot Jumlah Penumpang\")\n",
    "\n",
    "# Menampilkan plot\n",
    "plt.show()"
   ]
  },
  {
   "cell_type": "code",
   "execution_count": 63,
   "metadata": {},
   "outputs": [
    {
     "name": "stdout",
     "output_type": "stream",
     "text": [
      "0.0 Data tidak terdistribusi normal.\n"
     ]
    }
   ],
   "source": [
    "from scipy.stats import shapiro\n",
    "\n",
    "# Shapiro-Wilk\n",
    "statistic, p_value = shapiro(df.jumlah_penumpang)\n",
    "\n",
    "# Cek apakah data terdistribusi normal dengan tingkat signifikansi 0.05\n",
    "if p_value > 0.05:\n",
    "    print(p_value,\"Data terdistribusi normal.\")\n",
    "else:\n",
    "    print(p_value,\"Data tidak terdistribusi normal.\")"
   ]
  },
  {
   "attachments": {},
   "cell_type": "markdown",
   "metadata": {},
   "source": [
    "#### **Handling Outliers**"
   ]
  },
  {
   "attachments": {},
   "cell_type": "markdown",
   "metadata": {},
   "source": [
    "Sebelum melakukan analisa data, dilakukan handling outlier agar data yang bersih tidak menjadi bias. Outlier merupakan data yang menyimpang jauh dari data lainnya. Handling outlier ini menggunakan pengelompokan data berdasarkan `jenis` dan `jumlah_penumpang`."
   ]
  },
  {
   "cell_type": "code",
   "execution_count": 64,
   "metadata": {},
   "outputs": [
    {
     "data": {
      "text/html": [
       "<div>\n",
       "<style scoped>\n",
       "    .dataframe tbody tr th:only-of-type {\n",
       "        vertical-align: middle;\n",
       "    }\n",
       "\n",
       "    .dataframe tbody tr th {\n",
       "        vertical-align: top;\n",
       "    }\n",
       "\n",
       "    .dataframe thead th {\n",
       "        text-align: right;\n",
       "    }\n",
       "</style>\n",
       "<table border=\"1\" class=\"dataframe\">\n",
       "  <thead>\n",
       "    <tr style=\"text-align: right;\">\n",
       "      <th></th>\n",
       "      <th>feature</th>\n",
       "      <th>data_type</th>\n",
       "      <th>null_value</th>\n",
       "      <th>%null_value</th>\n",
       "      <th>n_unique</th>\n",
       "      <th>sample_unique</th>\n",
       "    </tr>\n",
       "  </thead>\n",
       "  <tbody>\n",
       "    <tr>\n",
       "      <th>0</th>\n",
       "      <td>tahun</td>\n",
       "      <td>int64</td>\n",
       "      <td>0</td>\n",
       "      <td>0.0</td>\n",
       "      <td>1</td>\n",
       "      <td>[2021]</td>\n",
       "    </tr>\n",
       "    <tr>\n",
       "      <th>1</th>\n",
       "      <td>bulan</td>\n",
       "      <td>int64</td>\n",
       "      <td>0</td>\n",
       "      <td>0.0</td>\n",
       "      <td>12</td>\n",
       "      <td>[10, 8, 3, 6, 1, 5, 12, 9, 2, 7, 4, 11]</td>\n",
       "    </tr>\n",
       "    <tr>\n",
       "      <th>2</th>\n",
       "      <td>jenis</td>\n",
       "      <td>object</td>\n",
       "      <td>0</td>\n",
       "      <td>0.0</td>\n",
       "      <td>3</td>\n",
       "      <td>[Mikrotrans, BRT, Angkutan Umum Integrasi]</td>\n",
       "    </tr>\n",
       "    <tr>\n",
       "      <th>3</th>\n",
       "      <td>kode_trayek</td>\n",
       "      <td>object</td>\n",
       "      <td>0</td>\n",
       "      <td>0.0</td>\n",
       "      <td>132</td>\n",
       "      <td>[JAK.88, JAK.85, JAK.84, JAK.80, JAK.77, JAK.75, JAK.74, JAK.73, JAK.72, JAK.71, JAK.64, JAK.61, JAK.60, JAK.59, JAK.58, JAK.56, JAK.54, JAK.53, JAK.52, JAK.51, JAK.50, JAK.49, JAK.47, JAK.46, JAK.45, JAK.44, JAK.43, JAK.42, JAK.41, JAK.40, JAK.39, JAK.38, JAK.37, JAK.36, JAK.35, JAK.34, JAK.33, JAK.32, JAK.31, JAK.30, JAK.29, JAK.28, JAK.27, JAK.26, JAK.25, JAK.24, JAK.22, JAK.21, JAK.20, JAK,19, JAK.18, JAK.17, JAK.16, JAK.15, JAK.14, JAK.13, JAK.12, JAK.117, JAK.112, JAK.11, JAK.10, JAK.09, JAK.08, JAK.07, JAK.06, JAK.05, JAK.04, JAK.03, JAK.02, JAK.01, 9, 8, 7, 6, 5, 4, 3, 2, 13, 12, 11, 10, 1, 9H, 9E, 9D, 8K, 8E, 8D, 8C, 7P, 7D, 7B, 7A, 6R, 6N, 6M, 6H, 6C, 5M, ...]</td>\n",
       "    </tr>\n",
       "    <tr>\n",
       "      <th>4</th>\n",
       "      <td>trayek</td>\n",
       "      <td>object</td>\n",
       "      <td>0</td>\n",
       "      <td>0.0</td>\n",
       "      <td>132</td>\n",
       "      <td>[Terminal Tanjung Priok - Ancol Barat, Bintara - Cipinang Indah, Terminal Kampung Melayu - Kapin Raya, Rawa Buaya - Rawa Kompeni, Tanjung Priok - Jembatan Item, Cililitan - Kp. Pulo, Terminal Rawamangun - Cipinang Muara, Jambore Cibubur - Pasar Rebo, Kampung Rambutan - Pasar Rebo via Poncol, Kampung Rambutan - Pinang Ranti, Lenteng Agung - Aseli, Cempaka Putih - Pulo Gadung via Kelapa Gading, Kelapa Gading - Rusun Kemayoran, Rawamangun - Tanah Merah, Cilingcing - Rorotan, Grogol - Srengseng, Grogol - Benhil, Grogol - Pos Pengumben via Slipi, Kalideres - Muara Angke, Taman Kota - Budi Luhur, Kalideres - Puri Kembangan, Lebak Bulus - Cipulir, Pasar Minggu - Ciganjur via KB Ragunan, Pasar Minggu - Jagakarsa, Lebak Bulus - Ragunan, Andara - Stasiun Universitas Pancasila, Tongtek - Cililitan, Kampung Melayu - Pondok Kelapa, Kampung Melayu - Pulo Gadung, Harapan Baru - Pulo Gebang via Rawa Kuning, Kalimalang - Duren Sawit, Bulak Ringin - Kampung Rambutan, Cililitan - Condet via Kayu Manis, Cilangkap - Cililitan, Pangkalan  Jati - Rawamangun, Rawamangun - Klender, Pulo Gadung - Kota, Lebak Bulus - Petukangan, Blok M - Andara, Grogol - Meruya via Roxy, Tanjung Priok - Sukapura, Kp. Rambutan - Taman Wiladatika, Pulo Gebang - Rorotan, Rawamangun - Duren Sawit, Kp. Rambutan - Kalisari, Senen - Pulo Gadung via Kelapa Gading, Dwikora - Penas Kalimalang, Cililitan - Dwikora, Cawang UKI - Lubang Buaya, Pinang Ranti - Kampung Rambutan, Kalibata - Kuningan, Senen - Pulo Gadung, Cililitan - Condet, Bulak Turi - Tanjung Priok, Tanah Abang - Meruya, Tanah Abang - Kota Intan via Jembatan Lima, Tanah Abang - Kebayoran Lama via Pos Pengumben, Tanjung Priok - Tanah Merdeka, Terminal Tanah Merah - Pulo Gadung, Tanah Abang - Kebayoran Lama, Tanah Abang - Kota, Roxy Mas - Karet, Roxy - Benhil, Tanah Abang - Grogol via Tawakal, Kampung Rambutan - Pondok Gede, Semper - Rorotan, Grogol - Tubagus Angke, Lebak Bulus - Andara, Kampung Melayu - Duren Sawit, Tanjung Priok - Plumpang, Pinang Ranti - Pluit, Lebak Bulus - Harmoni, Kampung Rambutan - Kampung Melayu, Ragunan - Dukuh Atas 2, Kampung Melayu - Ancol, Pulo Gadung 2 - Tosari, Kalideres - Pasar Baru, Pulo Gadung 1 - Harmoni, Ciledug - Tendean, Penjaringan - Sunter Bouleverd Barat, Pulo Gebang - Kampung Melayu, Tanjung Priok - PGC 2, Blok M - Kota, Cipedak - Blok M, Kebayoran Lama - Jelambar, Pasar Minggu - Tanah Abang, Batu Sari-Tanah Abang, Bintaro - Blok M, Joglo - Blok M, Kebayoran Lama - Tanah Abang, Pondok Kelapa - BKN, Pancoran - TMII, Kampung Rambutan - Blok M, Kampung Rambutan - Lebak Bulus, Ragunan - Stasin MRT Fatmawati, Ragunan - Blok M via Kemang, Stasiun Manggarai - Blok  M, Senen - Lebak Bulus, Stasin Tebet - Karet via Patra Kuningan, Kampung Melayu - Tanah Abang via Cikini, ...]</td>\n",
       "    </tr>\n",
       "    <tr>\n",
       "      <th>5</th>\n",
       "      <td>jumlah_penumpang</td>\n",
       "      <td>int64</td>\n",
       "      <td>0</td>\n",
       "      <td>0.0</td>\n",
       "      <td>1420</td>\n",
       "      <td>[31197, 30711, 40186, 61883, 66616, 50363, 50676, 75846, 97831, 57649, 52926, 35233, 69665, 72106, 91654, 49293, 41815, 46344, 65266, 104140, 69097, 44014, 50597, 83425, 48167, 64885, 94923, 71096, 46177, 41534, 63975, 46304, 59214, 64162, 32715, 69978, 51615, 79962, 60715, 133054, 117647, 62587, 51771, 43232, 49474, 80125, 20483, 73032, 53380, 99743, 36622, 51089, 83100, 120526, 91917, 18200, 69299, 93413, 73467, 78213, 49482, 28495, 41236, 56372, 64505, 65429, 50863, 37131, 48317, 65293, 670052, 442361, 376261, 348321, 430590, 274326, 466445, 331229, 307410, 140853, 135543, 369184, 903783, 16256, 16905, 81799, 8122, 18112, 24637, 0, 25384, 20689, 77492, 80151, 25776, 19821, 18839, 93175, 78012, 14392, ...]</td>\n",
       "    </tr>\n",
       "  </tbody>\n",
       "</table>\n",
       "</div>"
      ],
      "text/plain": [
       "            feature data_type  null_value  %null_value  n_unique   \n",
       "0  tahun             int64     0           0.0          1         \\\n",
       "1  bulan             int64     0           0.0          12         \n",
       "2  jenis             object    0           0.0          3          \n",
       "3  kode_trayek       object    0           0.0          132        \n",
       "4  trayek            object    0           0.0          132        \n",
       "5  jumlah_penumpang  int64     0           0.0          1420       \n",
       "\n",
       "                                                                                                                                                                                                                                                                                                                                                                                                                                                                                                                                                                                                                                                                                                                                                                                                                                                                                                                                                                                                                                                                                                                                                                                                                                                                                                                                                                                                                                                                                                                                                                                                                                                                                                                                                                                                                                                                                                                                                                                                                                                                                                                                                                                                                                                                                                                                                                                                                                                                                                                                                                                                                                                                                                                                                                                                                                                                  sample_unique  \n",
       "0  [2021]                                                                                                                                                                                                                                                                                                                                                                                                                                                                                                                                                                                                                                                                                                                                                                                                                                                                                                                                                                                                                                                                                                                                                                                                                                                                                                                                                                                                                                                                                                                                                                                                                                                                                                                                                                                                                                                                                                                                                                                                                                                                                                                                                                                                                                                                                                                                                                                                                                                                                                                                                                                                                                                                                                                                                                                                                                                                        \n",
       "1  [10, 8, 3, 6, 1, 5, 12, 9, 2, 7, 4, 11]                                                                                                                                                                                                                                                                                                                                                                                                                                                                                                                                                                                                                                                                                                                                                                                                                                                                                                                                                                                                                                                                                                                                                                                                                                                                                                                                                                                                                                                                                                                                                                                                                                                                                                                                                                                                                                                                                                                                                                                                                                                                                                                                                                                                                                                                                                                                                                                                                                                                                                                                                                                                                                                                                                                                                                                                                                       \n",
       "2  [Mikrotrans, BRT, Angkutan Umum Integrasi]                                                                                                                                                                                                                                                                                                                                                                                                                                                                                                                                                                                                                                                                                                                                                                                                                                                                                                                                                                                                                                                                                                                                                                                                                                                                                                                                                                                                                                                                                                                                                                                                                                                                                                                                                                                                                                                                                                                                                                                                                                                                                                                                                                                                                                                                                                                                                                                                                                                                                                                                                                                                                                                                                                                                                                                                                                    \n",
       "3  [JAK.88, JAK.85, JAK.84, JAK.80, JAK.77, JAK.75, JAK.74, JAK.73, JAK.72, JAK.71, JAK.64, JAK.61, JAK.60, JAK.59, JAK.58, JAK.56, JAK.54, JAK.53, JAK.52, JAK.51, JAK.50, JAK.49, JAK.47, JAK.46, JAK.45, JAK.44, JAK.43, JAK.42, JAK.41, JAK.40, JAK.39, JAK.38, JAK.37, JAK.36, JAK.35, JAK.34, JAK.33, JAK.32, JAK.31, JAK.30, JAK.29, JAK.28, JAK.27, JAK.26, JAK.25, JAK.24, JAK.22, JAK.21, JAK.20, JAK,19, JAK.18, JAK.17, JAK.16, JAK.15, JAK.14, JAK.13, JAK.12, JAK.117, JAK.112, JAK.11, JAK.10, JAK.09, JAK.08, JAK.07, JAK.06, JAK.05, JAK.04, JAK.03, JAK.02, JAK.01, 9, 8, 7, 6, 5, 4, 3, 2, 13, 12, 11, 10, 1, 9H, 9E, 9D, 8K, 8E, 8D, 8C, 7P, 7D, 7B, 7A, 6R, 6N, 6M, 6H, 6C, 5M, ...]                                                                                                                                                                                                                                                                                                                                                                                                                                                                                                                                                                                                                                                                                                                                                                                                                                                                                                                                                                                                                                                                                                                                                                                                                                                                                                                                                                                                                                                                                                                                                                                                                                                                                                                                                                                                                                                                                                                                                                                                                                                                                                                                                                        \n",
       "4  [Terminal Tanjung Priok - Ancol Barat, Bintara - Cipinang Indah, Terminal Kampung Melayu - Kapin Raya, Rawa Buaya - Rawa Kompeni, Tanjung Priok - Jembatan Item, Cililitan - Kp. Pulo, Terminal Rawamangun - Cipinang Muara, Jambore Cibubur - Pasar Rebo, Kampung Rambutan - Pasar Rebo via Poncol, Kampung Rambutan - Pinang Ranti, Lenteng Agung - Aseli, Cempaka Putih - Pulo Gadung via Kelapa Gading, Kelapa Gading - Rusun Kemayoran, Rawamangun - Tanah Merah, Cilingcing - Rorotan, Grogol - Srengseng, Grogol - Benhil, Grogol - Pos Pengumben via Slipi, Kalideres - Muara Angke, Taman Kota - Budi Luhur, Kalideres - Puri Kembangan, Lebak Bulus - Cipulir, Pasar Minggu - Ciganjur via KB Ragunan, Pasar Minggu - Jagakarsa, Lebak Bulus - Ragunan, Andara - Stasiun Universitas Pancasila, Tongtek - Cililitan, Kampung Melayu - Pondok Kelapa, Kampung Melayu - Pulo Gadung, Harapan Baru - Pulo Gebang via Rawa Kuning, Kalimalang - Duren Sawit, Bulak Ringin - Kampung Rambutan, Cililitan - Condet via Kayu Manis, Cilangkap - Cililitan, Pangkalan  Jati - Rawamangun, Rawamangun - Klender, Pulo Gadung - Kota, Lebak Bulus - Petukangan, Blok M - Andara, Grogol - Meruya via Roxy, Tanjung Priok - Sukapura, Kp. Rambutan - Taman Wiladatika, Pulo Gebang - Rorotan, Rawamangun - Duren Sawit, Kp. Rambutan - Kalisari, Senen - Pulo Gadung via Kelapa Gading, Dwikora - Penas Kalimalang, Cililitan - Dwikora, Cawang UKI - Lubang Buaya, Pinang Ranti - Kampung Rambutan, Kalibata - Kuningan, Senen - Pulo Gadung, Cililitan - Condet, Bulak Turi - Tanjung Priok, Tanah Abang - Meruya, Tanah Abang - Kota Intan via Jembatan Lima, Tanah Abang - Kebayoran Lama via Pos Pengumben, Tanjung Priok - Tanah Merdeka, Terminal Tanah Merah - Pulo Gadung, Tanah Abang - Kebayoran Lama, Tanah Abang - Kota, Roxy Mas - Karet, Roxy - Benhil, Tanah Abang - Grogol via Tawakal, Kampung Rambutan - Pondok Gede, Semper - Rorotan, Grogol - Tubagus Angke, Lebak Bulus - Andara, Kampung Melayu - Duren Sawit, Tanjung Priok - Plumpang, Pinang Ranti - Pluit, Lebak Bulus - Harmoni, Kampung Rambutan - Kampung Melayu, Ragunan - Dukuh Atas 2, Kampung Melayu - Ancol, Pulo Gadung 2 - Tosari, Kalideres - Pasar Baru, Pulo Gadung 1 - Harmoni, Ciledug - Tendean, Penjaringan - Sunter Bouleverd Barat, Pulo Gebang - Kampung Melayu, Tanjung Priok - PGC 2, Blok M - Kota, Cipedak - Blok M, Kebayoran Lama - Jelambar, Pasar Minggu - Tanah Abang, Batu Sari-Tanah Abang, Bintaro - Blok M, Joglo - Blok M, Kebayoran Lama - Tanah Abang, Pondok Kelapa - BKN, Pancoran - TMII, Kampung Rambutan - Blok M, Kampung Rambutan - Lebak Bulus, Ragunan - Stasin MRT Fatmawati, Ragunan - Blok M via Kemang, Stasiun Manggarai - Blok  M, Senen - Lebak Bulus, Stasin Tebet - Karet via Patra Kuningan, Kampung Melayu - Tanah Abang via Cikini, ...]  \n",
       "5  [31197, 30711, 40186, 61883, 66616, 50363, 50676, 75846, 97831, 57649, 52926, 35233, 69665, 72106, 91654, 49293, 41815, 46344, 65266, 104140, 69097, 44014, 50597, 83425, 48167, 64885, 94923, 71096, 46177, 41534, 63975, 46304, 59214, 64162, 32715, 69978, 51615, 79962, 60715, 133054, 117647, 62587, 51771, 43232, 49474, 80125, 20483, 73032, 53380, 99743, 36622, 51089, 83100, 120526, 91917, 18200, 69299, 93413, 73467, 78213, 49482, 28495, 41236, 56372, 64505, 65429, 50863, 37131, 48317, 65293, 670052, 442361, 376261, 348321, 430590, 274326, 466445, 331229, 307410, 140853, 135543, 369184, 903783, 16256, 16905, 81799, 8122, 18112, 24637, 0, 25384, 20689, 77492, 80151, 25776, 19821, 18839, 93175, 78012, 14392, ...]                                                                                                                                                                                                                                                                                                                                                                                                                                                                                                                                                                                                                                                                                                                                                                                                                                                                                                                                                                                                                                                                                                                                                                                                                                                                                                                                                                                                                                                                                                                                                                                                                                                                                                                                                                                                                                                                                                                                                                                                                                                                                                                                 "
      ]
     },
     "execution_count": 64,
     "metadata": {},
     "output_type": "execute_result"
    }
   ],
   "source": [
    "pd.DataFrame(\n",
    "    {\n",
    "    'feature': df.columns.values,\n",
    "    'data_type': df.dtypes.values,\n",
    "    'null_value': [df[col].isna().sum() for col in df.columns],\n",
    "    '%null_value': df.isna().mean().values * 100,\n",
    "    'n_unique': df.nunique().values,\n",
    "    'sample_unique': [df[col].unique() for col in df.columns]\n",
    "    }\n",
    ")"
   ]
  },
  {
   "cell_type": "code",
   "execution_count": 65,
   "metadata": {},
   "outputs": [
    {
     "data": {
      "text/plain": [
       "<Axes: xlabel='jumlah_penumpang', ylabel='jenis'>"
      ]
     },
     "execution_count": 65,
     "metadata": {},
     "output_type": "execute_result"
    },
    {
     "data": {
      "image/png": "[encoded data removed]",
      "text/plain": [
       "<Figure size 640x480 with 1 Axes>"
      ]
     },
     "metadata": {},
     "output_type": "display_data"
    }
   ],
   "source": [
    "import seaborn as sns\n",
    "sns.boxplot(y='jenis', x='jumlah_penumpang', data=df, hue= 'jenis')"
   ]
  },
  {
   "attachments": {},
   "cell_type": "markdown",
   "metadata": {},
   "source": [
    "Mencari batas q3 sebagai acuan outlier tertinggi untuk menghandle outlier pada masing masing jenis angkutan umum"
   ]
  },
  {
   "cell_type": "code",
   "execution_count": 132,
   "metadata": {},
   "outputs": [
    {
     "name": "stdout",
     "output_type": "stream",
     "text": [
      "number of outliers: 8\n",
      "max outlier value: 1131439\n",
      "min outlier value: 819178\n"
     ]
    }
   ],
   "source": [
    "# pengambilan data berdasarkan jenis angkutan BRT\n",
    "dfBRT = df.loc[df['jenis'] == 'BRT']\n",
    "\n",
    "# Mencari outliers\n",
    "def BRT(dfBRT):\n",
    "    q1=dfBRT.quantile(0.25)\n",
    "    q3=dfBRT.quantile(0.75)\n",
    "    IQR=q3-q1\n",
    "    outliers = dfBRT[((dfBRT<(q1-1.5*IQR)) | (dfBRT>(q3+1.5*IQR)))]\n",
    "    return outliers\n",
    "\n",
    "outliersBRT = BRT(dfBRT['jumlah_penumpang'])\n",
    "print('number of outliers: '+ str(len(outliersBRT)))\n",
    "print('max outlier value: '+ str(outliersBRT.max()))\n",
    "print('min outlier value: '+ str(outliersBRT.min()))"
   ]
  },
  {
   "cell_type": "code",
   "execution_count": 122,
   "metadata": {},
   "outputs": [
    {
     "data": {
      "text/html": [
       "<div>\n",
       "<style scoped>\n",
       "    .dataframe tbody tr th:only-of-type {\n",
       "        vertical-align: middle;\n",
       "    }\n",
       "\n",
       "    .dataframe tbody tr th {\n",
       "        vertical-align: top;\n",
       "    }\n",
       "\n",
       "    .dataframe thead th {\n",
       "        text-align: right;\n",
       "    }\n",
       "</style>\n",
       "<table border=\"1\" class=\"dataframe\">\n",
       "  <thead>\n",
       "    <tr style=\"text-align: right;\">\n",
       "      <th></th>\n",
       "      <th>tahun</th>\n",
       "      <th>bulan</th>\n",
       "      <th>jenis</th>\n",
       "      <th>kode_trayek</th>\n",
       "      <th>trayek</th>\n",
       "      <th>jumlah_penumpang</th>\n",
       "    </tr>\n",
       "  </thead>\n",
       "  <tbody>\n",
       "  </tbody>\n",
       "</table>\n",
       "</div>"
      ],
      "text/plain": [
       "Empty DataFrame\n",
       "Columns: [tahun, bulan, jenis, kode_trayek, trayek, jumlah_penumpang]\n",
       "Index: []"
      ]
     },
     "execution_count": 122,
     "metadata": {},
     "output_type": "execute_result"
    }
   ],
   "source": [
    "dfBRT[dfBRT['jumlah_penumpang'] > 1131439]"
   ]
  },
  {
   "cell_type": "code",
   "execution_count": 133,
   "metadata": {},
   "outputs": [
    {
     "name": "stdout",
     "output_type": "stream",
     "text": [
      "number of outliers: 25\n",
      "max outlier value: 167782\n",
      "min outlier value: 118492\n"
     ]
    }
   ],
   "source": [
    "# pengambilan data berdasarkan jenis angkutan Mikrotrans\n",
    "dfMikrotrans = df.loc[df['jenis'] == 'Mikrotrans']\n",
    "\n",
    "# Mencari outliers\n",
    "def Mikrotrans(dfMikrotrans):\n",
    "    q1=dfMikrotrans.quantile(0.25)\n",
    "    q3=dfMikrotrans.quantile(0.75)\n",
    "    IQR=q3-q1\n",
    "    outliers = dfMikrotrans[((dfMikrotrans<(q1-1.5*IQR)) | (dfMikrotrans>(q3+1.5*IQR)))]\n",
    "    return outliers\n",
    "\n",
    "outliersMikrotrans = Mikrotrans(dfMikrotrans['jumlah_penumpang'])\n",
    "print('number of outliers: '+ str(len(outliersMikrotrans)))\n",
    "print('max outlier value: '+ str(outliersMikrotrans.max()))\n",
    "print('min outlier value: '+ str(outliersMikrotrans.min()))"
   ]
  },
  {
   "cell_type": "code",
   "execution_count": 134,
   "metadata": {},
   "outputs": [
    {
     "data": {
      "text/html": [
       "<div>\n",
       "<style scoped>\n",
       "    .dataframe tbody tr th:only-of-type {\n",
       "        vertical-align: middle;\n",
       "    }\n",
       "\n",
       "    .dataframe tbody tr th {\n",
       "        vertical-align: top;\n",
       "    }\n",
       "\n",
       "    .dataframe thead th {\n",
       "        text-align: right;\n",
       "    }\n",
       "</style>\n",
       "<table border=\"1\" class=\"dataframe\">\n",
       "  <thead>\n",
       "    <tr style=\"text-align: right;\">\n",
       "      <th></th>\n",
       "      <th>tahun</th>\n",
       "      <th>bulan</th>\n",
       "      <th>jenis</th>\n",
       "      <th>kode_trayek</th>\n",
       "      <th>trayek</th>\n",
       "      <th>jumlah_penumpang</th>\n",
       "    </tr>\n",
       "  </thead>\n",
       "  <tbody>\n",
       "  </tbody>\n",
       "</table>\n",
       "</div>"
      ],
      "text/plain": [
       "Empty DataFrame\n",
       "Columns: [tahun, bulan, jenis, kode_trayek, trayek, jumlah_penumpang]\n",
       "Index: []"
      ]
     },
     "execution_count": 134,
     "metadata": {},
     "output_type": "execute_result"
    }
   ],
   "source": [
    "dfMikrotrans[dfMikrotrans['jumlah_penumpang'] > 167782]"
   ]
  },
  {
   "cell_type": "code",
   "execution_count": 135,
   "metadata": {},
   "outputs": [
    {
     "name": "stdout",
     "output_type": "stream",
     "text": [
      "number of outliers: 39\n",
      "max outlier value: 118725\n",
      "min outlier value: 69464\n"
     ]
    }
   ],
   "source": [
    "# pengambilan data berdasarkan jenis Angkutan Umum Integrasi\n",
    "dfAUI = df.loc[df['jenis'] == 'Angkutan Umum Integrasi']\n",
    "\n",
    "# Mencari outliers\n",
    "def AUI(dfAUI):\n",
    "    q1=dfAUI.quantile(0.25)\n",
    "    q3=dfAUI.quantile(0.75)\n",
    "    IQR=q3-q1\n",
    "    outliers = dfAUI[((dfAUI<(q1-1.5*IQR)) | (dfAUI>(q3+1.5*IQR)))]\n",
    "    return outliers\n",
    "\n",
    "outliersAUI = AUI(dfAUI['jumlah_penumpang'])\n",
    "print('number of outliers: '+ str(len(outliersAUI)))\n",
    "print('max outlier value: '+ str(outliersAUI.max()))\n",
    "print('min outlier value: '+ str(outliersAUI.min()))"
   ]
  },
  {
   "cell_type": "code",
   "execution_count": 136,
   "metadata": {},
   "outputs": [
    {
     "data": {
      "text/html": [
       "<div>\n",
       "<style scoped>\n",
       "    .dataframe tbody tr th:only-of-type {\n",
       "        vertical-align: middle;\n",
       "    }\n",
       "\n",
       "    .dataframe tbody tr th {\n",
       "        vertical-align: top;\n",
       "    }\n",
       "\n",
       "    .dataframe thead th {\n",
       "        text-align: right;\n",
       "    }\n",
       "</style>\n",
       "<table border=\"1\" class=\"dataframe\">\n",
       "  <thead>\n",
       "    <tr style=\"text-align: right;\">\n",
       "      <th></th>\n",
       "      <th>tahun</th>\n",
       "      <th>bulan</th>\n",
       "      <th>jenis</th>\n",
       "      <th>kode_trayek</th>\n",
       "      <th>trayek</th>\n",
       "      <th>jumlah_penumpang</th>\n",
       "    </tr>\n",
       "  </thead>\n",
       "  <tbody>\n",
       "  </tbody>\n",
       "</table>\n",
       "</div>"
      ],
      "text/plain": [
       "Empty DataFrame\n",
       "Columns: [tahun, bulan, jenis, kode_trayek, trayek, jumlah_penumpang]\n",
       "Index: []"
      ]
     },
     "execution_count": 136,
     "metadata": {},
     "output_type": "execute_result"
    }
   ],
   "source": [
    "dfAUI[dfAUI['jumlah_penumpang'] > 118725]"
   ]
  },
  {
   "attachments": {},
   "cell_type": "markdown",
   "metadata": {},
   "source": [
    "Setelah mencari batas q3 dilanjutkan dnegan mencari median dan MAD pada maisng masing jenis angkutan umum sebagai acuan dalam melakukan pengelompokan data."
   ]
  },
  {
   "cell_type": "code",
   "execution_count": 137,
   "metadata": {},
   "outputs": [
    {
     "name": "stdout",
     "output_type": "stream",
     "text": [
      "Median : 357060.0, MAD : 109218.0\n",
      " Lower :247842.0, Upper : 466278.0\n"
     ]
    }
   ],
   "source": [
    "# find the median and MAD BRT\n",
    "medianBRT = dfBRT.jumlah_penumpang.median()\n",
    "madBRT = abs(dfBRT.jumlah_penumpang - dfBRT.jumlah_penumpang.median()).median()\n",
    "\n",
    "Lower = medianBRT - madBRT\n",
    "Upper = medianBRT + madBRT\n",
    "\n",
    "print(f'Median : {medianBRT}, MAD : {madBRT}\\n Lower :{Lower}, Upper : {Upper}')"
   ]
  },
  {
   "cell_type": "code",
   "execution_count": 138,
   "metadata": {},
   "outputs": [
    {
     "name": "stderr",
     "output_type": "stream",
     "text": [
      "/var/folders/jt/vl22sbsx255g7ppvxz8rtv5m0000gn/T/ipykernel_1208/2889433210.py:11: SettingWithCopyWarning: \n",
      "A value is trying to be set on a copy of a slice from a DataFrame.\n",
      "Try using .loc[row_indexer,col_indexer] = value instead\n",
      "\n",
      "See the caveats in the documentation: https://pandas.pydata.org/pandas-docs/stable/user_guide/indexing.html#returning-a-view-versus-a-copy\n",
      "  dfBRT['kategori_penumpang'] = dfBRT.apply(BRT, axis=1)\n"
     ]
    },
    {
     "data": {
      "text/html": [
       "<div>\n",
       "<style scoped>\n",
       "    .dataframe tbody tr th:only-of-type {\n",
       "        vertical-align: middle;\n",
       "    }\n",
       "\n",
       "    .dataframe tbody tr th {\n",
       "        vertical-align: top;\n",
       "    }\n",
       "\n",
       "    .dataframe thead th {\n",
       "        text-align: right;\n",
       "    }\n",
       "</style>\n",
       "<table border=\"1\" class=\"dataframe\">\n",
       "  <thead>\n",
       "    <tr style=\"text-align: right;\">\n",
       "      <th></th>\n",
       "      <th>tahun</th>\n",
       "      <th>bulan</th>\n",
       "      <th>jenis</th>\n",
       "      <th>kode_trayek</th>\n",
       "      <th>trayek</th>\n",
       "      <th>jumlah_penumpang</th>\n",
       "      <th>kategori_penumpang</th>\n",
       "    </tr>\n",
       "  </thead>\n",
       "  <tbody>\n",
       "    <tr>\n",
       "      <th>70</th>\n",
       "      <td>2021</td>\n",
       "      <td>10</td>\n",
       "      <td>BRT</td>\n",
       "      <td>9</td>\n",
       "      <td>Pinang Ranti - Pluit</td>\n",
       "      <td>670052</td>\n",
       "      <td>Padat Penumpang</td>\n",
       "    </tr>\n",
       "    <tr>\n",
       "      <th>71</th>\n",
       "      <td>2021</td>\n",
       "      <td>10</td>\n",
       "      <td>BRT</td>\n",
       "      <td>8</td>\n",
       "      <td>Lebak Bulus - Harmoni</td>\n",
       "      <td>442361</td>\n",
       "      <td>Ramai Penumpang</td>\n",
       "    </tr>\n",
       "    <tr>\n",
       "      <th>72</th>\n",
       "      <td>2021</td>\n",
       "      <td>10</td>\n",
       "      <td>BRT</td>\n",
       "      <td>7</td>\n",
       "      <td>Kampung Rambutan - Kampung Melayu</td>\n",
       "      <td>376261</td>\n",
       "      <td>Ramai Penumpang</td>\n",
       "    </tr>\n",
       "    <tr>\n",
       "      <th>73</th>\n",
       "      <td>2021</td>\n",
       "      <td>10</td>\n",
       "      <td>BRT</td>\n",
       "      <td>6</td>\n",
       "      <td>Ragunan - Dukuh Atas 2</td>\n",
       "      <td>348321</td>\n",
       "      <td>Ramai Penumpang</td>\n",
       "    </tr>\n",
       "    <tr>\n",
       "      <th>74</th>\n",
       "      <td>2021</td>\n",
       "      <td>10</td>\n",
       "      <td>BRT</td>\n",
       "      <td>5</td>\n",
       "      <td>Kampung Melayu - Ancol</td>\n",
       "      <td>430590</td>\n",
       "      <td>Ramai Penumpang</td>\n",
       "    </tr>\n",
       "  </tbody>\n",
       "</table>\n",
       "</div>"
      ],
      "text/plain": [
       "    tahun  bulan jenis kode_trayek                             trayek   \n",
       "70  2021   10     BRT   9           Pinang Ranti - Pluit               \\\n",
       "71  2021   10     BRT   8           Lebak Bulus - Harmoni               \n",
       "72  2021   10     BRT   7           Kampung Rambutan - Kampung Melayu   \n",
       "73  2021   10     BRT   6           Ragunan - Dukuh Atas 2              \n",
       "74  2021   10     BRT   5           Kampung Melayu - Ancol              \n",
       "\n",
       "    jumlah_penumpang kategori_penumpang  \n",
       "70  670052            Padat Penumpang    \n",
       "71  442361            Ramai Penumpang    \n",
       "72  376261            Ramai Penumpang    \n",
       "73  348321            Ramai Penumpang    \n",
       "74  430590            Ramai Penumpang    "
      ]
     },
     "execution_count": 138,
     "metadata": {},
     "output_type": "execute_result"
    }
   ],
   "source": [
    "# kategory jumlah penumpang BRT by median and MAD\n",
    "def BRT(dfBRT):\n",
    "    if 466278 > dfBRT['jumlah_penumpang'] > 247842:\n",
    "        return \"Ramai Penumpang\"\n",
    "    elif dfBRT['jumlah_penumpang'] <= 247842:\n",
    "        return \"Sepi penumpang\"\n",
    "    else:\n",
    "        return \"Padat Penumpang\"\n",
    "    \n",
    "# Membuat kolom 'Category_Discount'    \n",
    "dfBRT['kategori_penumpang'] = dfBRT.apply(BRT, axis=1)\n",
    "dfBRT.head()"
   ]
  },
  {
   "cell_type": "code",
   "execution_count": 139,
   "metadata": {},
   "outputs": [
    {
     "name": "stdout",
     "output_type": "stream",
     "text": [
      "Median : 55168.5, MAD : 15213.5\n",
      " Lower :39955.0, Upper : 70382.0\n"
     ]
    }
   ],
   "source": [
    "# find the median and MAD Mikrotrans\n",
    "medianMikrotrans = dfMikrotrans.jumlah_penumpang.median()\n",
    "madMikrotrans = abs(dfMikrotrans.jumlah_penumpang - dfMikrotrans.jumlah_penumpang.median()).median()\n",
    "\n",
    "Lower = medianMikrotrans - madMikrotrans\n",
    "Upper = medianMikrotrans + madMikrotrans\n",
    "\n",
    "print(f'Median : {medianMikrotrans}, MAD : {madMikrotrans}\\n Lower :{Lower}, Upper : {Upper}')"
   ]
  },
  {
   "cell_type": "code",
   "execution_count": 140,
   "metadata": {},
   "outputs": [
    {
     "name": "stderr",
     "output_type": "stream",
     "text": [
      "/var/folders/jt/vl22sbsx255g7ppvxz8rtv5m0000gn/T/ipykernel_1208/3471045829.py:11: SettingWithCopyWarning: \n",
      "A value is trying to be set on a copy of a slice from a DataFrame.\n",
      "Try using .loc[row_indexer,col_indexer] = value instead\n",
      "\n",
      "See the caveats in the documentation: https://pandas.pydata.org/pandas-docs/stable/user_guide/indexing.html#returning-a-view-versus-a-copy\n",
      "  dfMikrotrans['kategori_penumpang'] = dfMikrotrans.apply(Mikrotrans, axis=1)\n"
     ]
    },
    {
     "data": {
      "text/html": [
       "<div>\n",
       "<style scoped>\n",
       "    .dataframe tbody tr th:only-of-type {\n",
       "        vertical-align: middle;\n",
       "    }\n",
       "\n",
       "    .dataframe tbody tr th {\n",
       "        vertical-align: top;\n",
       "    }\n",
       "\n",
       "    .dataframe thead th {\n",
       "        text-align: right;\n",
       "    }\n",
       "</style>\n",
       "<table border=\"1\" class=\"dataframe\">\n",
       "  <thead>\n",
       "    <tr style=\"text-align: right;\">\n",
       "      <th></th>\n",
       "      <th>tahun</th>\n",
       "      <th>bulan</th>\n",
       "      <th>jenis</th>\n",
       "      <th>kode_trayek</th>\n",
       "      <th>trayek</th>\n",
       "      <th>jumlah_penumpang</th>\n",
       "      <th>kategori_penumpang</th>\n",
       "    </tr>\n",
       "  </thead>\n",
       "  <tbody>\n",
       "    <tr>\n",
       "      <th>0</th>\n",
       "      <td>2021</td>\n",
       "      <td>10</td>\n",
       "      <td>Mikrotrans</td>\n",
       "      <td>JAK.88</td>\n",
       "      <td>Terminal Tanjung Priok - Ancol Barat</td>\n",
       "      <td>31197</td>\n",
       "      <td>Sepi penumpang</td>\n",
       "    </tr>\n",
       "    <tr>\n",
       "      <th>1</th>\n",
       "      <td>2021</td>\n",
       "      <td>10</td>\n",
       "      <td>Mikrotrans</td>\n",
       "      <td>JAK.85</td>\n",
       "      <td>Bintara - Cipinang Indah</td>\n",
       "      <td>30711</td>\n",
       "      <td>Sepi penumpang</td>\n",
       "    </tr>\n",
       "    <tr>\n",
       "      <th>2</th>\n",
       "      <td>2021</td>\n",
       "      <td>10</td>\n",
       "      <td>Mikrotrans</td>\n",
       "      <td>JAK.84</td>\n",
       "      <td>Terminal Kampung Melayu - Kapin Raya</td>\n",
       "      <td>40186</td>\n",
       "      <td>Ramai Penumpang</td>\n",
       "    </tr>\n",
       "    <tr>\n",
       "      <th>3</th>\n",
       "      <td>2021</td>\n",
       "      <td>10</td>\n",
       "      <td>Mikrotrans</td>\n",
       "      <td>JAK.80</td>\n",
       "      <td>Rawa Buaya - Rawa Kompeni</td>\n",
       "      <td>61883</td>\n",
       "      <td>Ramai Penumpang</td>\n",
       "    </tr>\n",
       "    <tr>\n",
       "      <th>4</th>\n",
       "      <td>2021</td>\n",
       "      <td>10</td>\n",
       "      <td>Mikrotrans</td>\n",
       "      <td>JAK.77</td>\n",
       "      <td>Tanjung Priok - Jembatan Item</td>\n",
       "      <td>66616</td>\n",
       "      <td>Ramai Penumpang</td>\n",
       "    </tr>\n",
       "  </tbody>\n",
       "</table>\n",
       "</div>"
      ],
      "text/plain": [
       "   tahun  bulan       jenis kode_trayek                                trayek   \n",
       "0  2021   10     Mikrotrans  JAK.88      Terminal Tanjung Priok - Ancol Barat  \\\n",
       "1  2021   10     Mikrotrans  JAK.85      Bintara - Cipinang Indah               \n",
       "2  2021   10     Mikrotrans  JAK.84      Terminal Kampung Melayu - Kapin Raya   \n",
       "3  2021   10     Mikrotrans  JAK.80      Rawa Buaya - Rawa Kompeni              \n",
       "4  2021   10     Mikrotrans  JAK.77      Tanjung Priok - Jembatan Item          \n",
       "\n",
       "   jumlah_penumpang kategori_penumpang  \n",
       "0  31197             Sepi penumpang     \n",
       "1  30711             Sepi penumpang     \n",
       "2  40186             Ramai Penumpang    \n",
       "3  61883             Ramai Penumpang    \n",
       "4  66616             Ramai Penumpang    "
      ]
     },
     "execution_count": 140,
     "metadata": {},
     "output_type": "execute_result"
    }
   ],
   "source": [
    "# kategory jumlah penumpang BRT by median and MAD\n",
    "def Mikrotrans(dfMikrotrans):\n",
    "    if 70382 > dfMikrotrans['jumlah_penumpang'] > 39955:\n",
    "        return \"Ramai Penumpang\"\n",
    "    elif dfMikrotrans['jumlah_penumpang'] <= 39955:\n",
    "        return \"Sepi penumpang\"\n",
    "    else:\n",
    "        return \"Padat Penumpang\"\n",
    "    \n",
    "# Membuat kolom 'Category_Discount'    \n",
    "dfMikrotrans['kategori_penumpang'] = dfMikrotrans.apply(Mikrotrans, axis=1)\n",
    "dfMikrotrans.head()"
   ]
  },
  {
   "cell_type": "code",
   "execution_count": 141,
   "metadata": {},
   "outputs": [
    {
     "name": "stdout",
     "output_type": "stream",
     "text": [
      "Median : 17270.0, MAD : 11180.0\n",
      " Lower :6090.0, Upper : 28450.0\n"
     ]
    }
   ],
   "source": [
    "# find the median and MAD Angkutan Umum Integrasi\n",
    "medianAUI = dfAUI.jumlah_penumpang.median()\n",
    "madAUI = abs(dfAUI.jumlah_penumpang - dfAUI.jumlah_penumpang.median()).median()\n",
    "\n",
    "Lower = medianAUI - madAUI\n",
    "Upper = medianAUI + madAUI\n",
    "\n",
    "print(f'Median : {medianAUI}, MAD : {madAUI}\\n Lower :{Lower}, Upper : {Upper}')"
   ]
  },
  {
   "cell_type": "code",
   "execution_count": 142,
   "metadata": {},
   "outputs": [
    {
     "name": "stderr",
     "output_type": "stream",
     "text": [
      "/var/folders/jt/vl22sbsx255g7ppvxz8rtv5m0000gn/T/ipykernel_1208/3234595721.py:11: SettingWithCopyWarning: \n",
      "A value is trying to be set on a copy of a slice from a DataFrame.\n",
      "Try using .loc[row_indexer,col_indexer] = value instead\n",
      "\n",
      "See the caveats in the documentation: https://pandas.pydata.org/pandas-docs/stable/user_guide/indexing.html#returning-a-view-versus-a-copy\n",
      "  dfAUI['kategori_penumpang'] = dfAUI.apply(AUI, axis=1)\n"
     ]
    },
    {
     "data": {
      "text/html": [
       "<div>\n",
       "<style scoped>\n",
       "    .dataframe tbody tr th:only-of-type {\n",
       "        vertical-align: middle;\n",
       "    }\n",
       "\n",
       "    .dataframe tbody tr th {\n",
       "        vertical-align: top;\n",
       "    }\n",
       "\n",
       "    .dataframe thead th {\n",
       "        text-align: right;\n",
       "    }\n",
       "</style>\n",
       "<table border=\"1\" class=\"dataframe\">\n",
       "  <thead>\n",
       "    <tr style=\"text-align: right;\">\n",
       "      <th></th>\n",
       "      <th>tahun</th>\n",
       "      <th>bulan</th>\n",
       "      <th>jenis</th>\n",
       "      <th>kode_trayek</th>\n",
       "      <th>trayek</th>\n",
       "      <th>jumlah_penumpang</th>\n",
       "      <th>kategori_penumpang</th>\n",
       "    </tr>\n",
       "  </thead>\n",
       "  <tbody>\n",
       "    <tr>\n",
       "      <th>83</th>\n",
       "      <td>2021</td>\n",
       "      <td>10</td>\n",
       "      <td>Angkutan Umum Integrasi</td>\n",
       "      <td>9H</td>\n",
       "      <td>Cipedak - Blok M</td>\n",
       "      <td>16256</td>\n",
       "      <td>Ramai Penumpang</td>\n",
       "    </tr>\n",
       "    <tr>\n",
       "      <th>84</th>\n",
       "      <td>2021</td>\n",
       "      <td>10</td>\n",
       "      <td>Angkutan Umum Integrasi</td>\n",
       "      <td>9E</td>\n",
       "      <td>Kebayoran Lama - Jelambar</td>\n",
       "      <td>16905</td>\n",
       "      <td>Ramai Penumpang</td>\n",
       "    </tr>\n",
       "    <tr>\n",
       "      <th>85</th>\n",
       "      <td>2021</td>\n",
       "      <td>10</td>\n",
       "      <td>Angkutan Umum Integrasi</td>\n",
       "      <td>9D</td>\n",
       "      <td>Pasar Minggu - Tanah Abang</td>\n",
       "      <td>81799</td>\n",
       "      <td>Padat Penumpang</td>\n",
       "    </tr>\n",
       "    <tr>\n",
       "      <th>86</th>\n",
       "      <td>2021</td>\n",
       "      <td>10</td>\n",
       "      <td>Angkutan Umum Integrasi</td>\n",
       "      <td>8K</td>\n",
       "      <td>Batu Sari-Tanah Abang</td>\n",
       "      <td>8122</td>\n",
       "      <td>Ramai Penumpang</td>\n",
       "    </tr>\n",
       "    <tr>\n",
       "      <th>87</th>\n",
       "      <td>2021</td>\n",
       "      <td>10</td>\n",
       "      <td>Angkutan Umum Integrasi</td>\n",
       "      <td>8E</td>\n",
       "      <td>Bintaro - Blok M</td>\n",
       "      <td>18112</td>\n",
       "      <td>Ramai Penumpang</td>\n",
       "    </tr>\n",
       "  </tbody>\n",
       "</table>\n",
       "</div>"
      ],
      "text/plain": [
       "    tahun  bulan                    jenis kode_trayek   \n",
       "83  2021   10     Angkutan Umum Integrasi  9H          \\\n",
       "84  2021   10     Angkutan Umum Integrasi  9E           \n",
       "85  2021   10     Angkutan Umum Integrasi  9D           \n",
       "86  2021   10     Angkutan Umum Integrasi  8K           \n",
       "87  2021   10     Angkutan Umum Integrasi  8E           \n",
       "\n",
       "                        trayek  jumlah_penumpang kategori_penumpang  \n",
       "83  Cipedak - Blok M            16256             Ramai Penumpang    \n",
       "84  Kebayoran Lama - Jelambar   16905             Ramai Penumpang    \n",
       "85  Pasar Minggu - Tanah Abang  81799             Padat Penumpang    \n",
       "86  Batu Sari-Tanah Abang       8122              Ramai Penumpang    \n",
       "87  Bintaro - Blok M            18112             Ramai Penumpang    "
      ]
     },
     "execution_count": 142,
     "metadata": {},
     "output_type": "execute_result"
    }
   ],
   "source": [
    "# kategory jumlah penumpang BRT by median and MAD\n",
    "def AUI(dfAUI):\n",
    "    if 28450 > dfAUI['jumlah_penumpang'] > 6090:\n",
    "        return \"Ramai Penumpang\"\n",
    "    elif dfAUI['jumlah_penumpang'] <= 6090:\n",
    "        return \"Sepi penumpang\"\n",
    "    else:\n",
    "        return \"Padat Penumpang\"\n",
    "    \n",
    "# Membuat kolom 'Category_Discount'    \n",
    "dfAUI['kategori_penumpang'] = dfAUI.apply(AUI, axis=1)\n",
    "dfAUI.head()"
   ]
  },
  {
   "attachments": {},
   "cell_type": "markdown",
   "metadata": {},
   "source": [
    "## **Data Bersih**"
   ]
  },
  {
   "attachments": {},
   "cell_type": "markdown",
   "metadata": {},
   "source": [
    "Mari kita lihat informasi data yang baru setelah melakukan cleansing data. Sebelum itu, kita satukan terlebih dahulu data yang benar menjadi satu dataframe dna melakukan insert index berdasarkan bulan Januari 2021."
   ]
  },
  {
   "attachments": {},
   "cell_type": "markdown",
   "metadata": {},
   "source": [
    "#### Penggabungan Data"
   ]
  },
  {
   "cell_type": "code",
   "execution_count": 144,
   "metadata": {},
   "outputs": [
    {
     "data": {
      "text/html": [
       "<div>\n",
       "<style scoped>\n",
       "    .dataframe tbody tr th:only-of-type {\n",
       "        vertical-align: middle;\n",
       "    }\n",
       "\n",
       "    .dataframe tbody tr th {\n",
       "        vertical-align: top;\n",
       "    }\n",
       "\n",
       "    .dataframe thead th {\n",
       "        text-align: right;\n",
       "    }\n",
       "</style>\n",
       "<table border=\"1\" class=\"dataframe\">\n",
       "  <thead>\n",
       "    <tr style=\"text-align: right;\">\n",
       "      <th></th>\n",
       "      <th>tahun</th>\n",
       "      <th>bulan</th>\n",
       "      <th>jenis</th>\n",
       "      <th>kode_trayek</th>\n",
       "      <th>trayek</th>\n",
       "      <th>jumlah_penumpang</th>\n",
       "      <th>kategori_penumpang</th>\n",
       "    </tr>\n",
       "  </thead>\n",
       "  <tbody>\n",
       "    <tr>\n",
       "      <th>0</th>\n",
       "      <td>2021</td>\n",
       "      <td>10</td>\n",
       "      <td>Mikrotrans</td>\n",
       "      <td>JAK.88</td>\n",
       "      <td>Terminal Tanjung Priok - Ancol Barat</td>\n",
       "      <td>31197</td>\n",
       "      <td>Sepi penumpang</td>\n",
       "    </tr>\n",
       "    <tr>\n",
       "      <th>1</th>\n",
       "      <td>2021</td>\n",
       "      <td>10</td>\n",
       "      <td>Mikrotrans</td>\n",
       "      <td>JAK.85</td>\n",
       "      <td>Bintara - Cipinang Indah</td>\n",
       "      <td>30711</td>\n",
       "      <td>Sepi penumpang</td>\n",
       "    </tr>\n",
       "    <tr>\n",
       "      <th>2</th>\n",
       "      <td>2021</td>\n",
       "      <td>10</td>\n",
       "      <td>Mikrotrans</td>\n",
       "      <td>JAK.84</td>\n",
       "      <td>Terminal Kampung Melayu - Kapin Raya</td>\n",
       "      <td>40186</td>\n",
       "      <td>Ramai Penumpang</td>\n",
       "    </tr>\n",
       "    <tr>\n",
       "      <th>3</th>\n",
       "      <td>2021</td>\n",
       "      <td>10</td>\n",
       "      <td>Mikrotrans</td>\n",
       "      <td>JAK.80</td>\n",
       "      <td>Rawa Buaya - Rawa Kompeni</td>\n",
       "      <td>61883</td>\n",
       "      <td>Ramai Penumpang</td>\n",
       "    </tr>\n",
       "    <tr>\n",
       "      <th>4</th>\n",
       "      <td>2021</td>\n",
       "      <td>10</td>\n",
       "      <td>Mikrotrans</td>\n",
       "      <td>JAK.77</td>\n",
       "      <td>Tanjung Priok - Jembatan Item</td>\n",
       "      <td>66616</td>\n",
       "      <td>Ramai Penumpang</td>\n",
       "    </tr>\n",
       "  </tbody>\n",
       "</table>\n",
       "</div>"
      ],
      "text/plain": [
       "   tahun  bulan       jenis kode_trayek                                trayek   \n",
       "0  2021   10     Mikrotrans  JAK.88      Terminal Tanjung Priok - Ancol Barat  \\\n",
       "1  2021   10     Mikrotrans  JAK.85      Bintara - Cipinang Indah               \n",
       "2  2021   10     Mikrotrans  JAK.84      Terminal Kampung Melayu - Kapin Raya   \n",
       "3  2021   10     Mikrotrans  JAK.80      Rawa Buaya - Rawa Kompeni              \n",
       "4  2021   10     Mikrotrans  JAK.77      Tanjung Priok - Jembatan Item          \n",
       "\n",
       "   jumlah_penumpang kategori_penumpang  \n",
       "0  31197             Sepi penumpang     \n",
       "1  30711             Sepi penumpang     \n",
       "2  40186             Ramai Penumpang    \n",
       "3  61883             Ramai Penumpang    \n",
       "4  66616             Ramai Penumpang    "
      ]
     },
     "execution_count": 144,
     "metadata": {},
     "output_type": "execute_result"
    }
   ],
   "source": [
    "dfNew = pd.concat([dfBRT, dfMikrotrans, dfAUI], axis = 0)\n",
    "dfNew.sort_index().head()"
   ]
  },
  {
   "attachments": {},
   "cell_type": "markdown",
   "metadata": {},
   "source": [
    "#### Reset Index"
   ]
  },
  {
   "cell_type": "code",
   "execution_count": 87,
   "metadata": {},
   "outputs": [
    {
     "data": {
      "text/html": [
       "<div>\n",
       "<style scoped>\n",
       "    .dataframe tbody tr th:only-of-type {\n",
       "        vertical-align: middle;\n",
       "    }\n",
       "\n",
       "    .dataframe tbody tr th {\n",
       "        vertical-align: top;\n",
       "    }\n",
       "\n",
       "    .dataframe thead th {\n",
       "        text-align: right;\n",
       "    }\n",
       "</style>\n",
       "<table border=\"1\" class=\"dataframe\">\n",
       "  <thead>\n",
       "    <tr style=\"text-align: right;\">\n",
       "      <th></th>\n",
       "      <th>tahun</th>\n",
       "      <th>bulan</th>\n",
       "      <th>jenis</th>\n",
       "      <th>kode_trayek</th>\n",
       "      <th>trayek</th>\n",
       "      <th>jumlah_penumpang</th>\n",
       "      <th>kategori_penumpang</th>\n",
       "    </tr>\n",
       "  </thead>\n",
       "  <tbody>\n",
       "    <tr>\n",
       "      <th>0</th>\n",
       "      <td>2021</td>\n",
       "      <td>1</td>\n",
       "      <td>Angkutan Umum Integrasi</td>\n",
       "      <td>1C</td>\n",
       "      <td>Pesanggrahan - Blok M</td>\n",
       "      <td>18502</td>\n",
       "      <td>Ramai Penumpang</td>\n",
       "    </tr>\n",
       "    <tr>\n",
       "      <th>1</th>\n",
       "      <td>2021</td>\n",
       "      <td>1</td>\n",
       "      <td>Mikrotrans</td>\n",
       "      <td>JAK.32</td>\n",
       "      <td>Lebak Bulus - Petukangan</td>\n",
       "      <td>83768</td>\n",
       "      <td>Padat Penumpang</td>\n",
       "    </tr>\n",
       "    <tr>\n",
       "      <th>2</th>\n",
       "      <td>2021</td>\n",
       "      <td>1</td>\n",
       "      <td>Angkutan Umum Integrasi</td>\n",
       "      <td>10K</td>\n",
       "      <td>Tanjung Priok - Senen via Taman  BMW</td>\n",
       "      <td>41881</td>\n",
       "      <td>Padat Penumpang</td>\n",
       "    </tr>\n",
       "    <tr>\n",
       "      <th>3</th>\n",
       "      <td>2021</td>\n",
       "      <td>1</td>\n",
       "      <td>Angkutan Umum Integrasi</td>\n",
       "      <td>11D</td>\n",
       "      <td>Pulo Gebang - Pulo Gadung 2 via PIK</td>\n",
       "      <td>61434</td>\n",
       "      <td>Padat Penumpang</td>\n",
       "    </tr>\n",
       "    <tr>\n",
       "      <th>4</th>\n",
       "      <td>2021</td>\n",
       "      <td>1</td>\n",
       "      <td>Angkutan Umum Integrasi</td>\n",
       "      <td>11Q</td>\n",
       "      <td>Kampung Melayu - Pulo Gebang via BKT</td>\n",
       "      <td>9436</td>\n",
       "      <td>Ramai Penumpang</td>\n",
       "    </tr>\n",
       "  </tbody>\n",
       "</table>\n",
       "</div>"
      ],
      "text/plain": [
       "   tahun  bulan                    jenis kode_trayek   \n",
       "0  2021   1      Angkutan Umum Integrasi  1C          \\\n",
       "1  2021   1      Mikrotrans               JAK.32       \n",
       "2  2021   1      Angkutan Umum Integrasi  10K          \n",
       "3  2021   1      Angkutan Umum Integrasi  11D          \n",
       "4  2021   1      Angkutan Umum Integrasi  11Q          \n",
       "\n",
       "                                 trayek  jumlah_penumpang kategori_penumpang  \n",
       "0  Pesanggrahan - Blok M                 18502             Ramai Penumpang    \n",
       "1  Lebak Bulus - Petukangan              83768             Padat Penumpang    \n",
       "2  Tanjung Priok - Senen via Taman  BMW  41881             Padat Penumpang    \n",
       "3  Pulo Gebang - Pulo Gadung 2 via PIK   61434             Padat Penumpang    \n",
       "4  Kampung Melayu - Pulo Gebang via BKT  9436              Ramai Penumpang    "
      ]
     },
     "execution_count": 87,
     "metadata": {},
     "output_type": "execute_result"
    }
   ],
   "source": [
    "dfNew = dfNew.sort_values('bulan', ascending=True)\n",
    "#Reset index\n",
    "dfNew = dfNew.reset_index(drop=True)\n",
    "\n",
    "dfNew.head()"
   ]
  },
  {
   "attachments": {},
   "cell_type": "markdown",
   "metadata": {},
   "source": [
    "#### Informasi Dataset Terbaru"
   ]
  },
  {
   "cell_type": "code",
   "execution_count": 145,
   "metadata": {},
   "outputs": [
    {
     "name": "stdout",
     "output_type": "stream",
     "text": [
      "Jumlah baris dan kolom di dataset df adalah (1473, 7)\n",
      "<class 'pandas.core.frame.DataFrame'>\n",
      "RangeIndex: 1473 entries, 0 to 1472\n",
      "Data columns (total 6 columns):\n",
      " #   Column            Non-Null Count  Dtype \n",
      "---  ------            --------------  ----- \n",
      " 0   tahun             1473 non-null   int64 \n",
      " 1   bulan             1473 non-null   int64 \n",
      " 2   jenis             1473 non-null   object\n",
      " 3   kode_trayek       1473 non-null   object\n",
      " 4   trayek            1473 non-null   object\n",
      " 5   jumlah_penumpang  1473 non-null   int64 \n",
      "dtypes: int64(3), object(3)\n",
      "memory usage: 69.2+ KB\n"
     ]
    }
   ],
   "source": [
    "print(f'Jumlah baris dan kolom di dataset df adalah {dfNew.shape}')\n",
    "df.info()"
   ]
  },
  {
   "cell_type": "code",
   "execution_count": 146,
   "metadata": {},
   "outputs": [
    {
     "data": {
      "text/html": [
       "<div>\n",
       "<style scoped>\n",
       "    .dataframe tbody tr th:only-of-type {\n",
       "        vertical-align: middle;\n",
       "    }\n",
       "\n",
       "    .dataframe tbody tr th {\n",
       "        vertical-align: top;\n",
       "    }\n",
       "\n",
       "    .dataframe thead th {\n",
       "        text-align: right;\n",
       "    }\n",
       "</style>\n",
       "<table border=\"1\" class=\"dataframe\">\n",
       "  <thead>\n",
       "    <tr style=\"text-align: right;\">\n",
       "      <th></th>\n",
       "      <th>feature</th>\n",
       "      <th>data_type</th>\n",
       "      <th>null_value</th>\n",
       "      <th>%null_value</th>\n",
       "      <th>n_unique</th>\n",
       "      <th>sample_unique</th>\n",
       "    </tr>\n",
       "  </thead>\n",
       "  <tbody>\n",
       "    <tr>\n",
       "      <th>0</th>\n",
       "      <td>tahun</td>\n",
       "      <td>int64</td>\n",
       "      <td>0</td>\n",
       "      <td>0.0</td>\n",
       "      <td>1</td>\n",
       "      <td>[2021]</td>\n",
       "    </tr>\n",
       "    <tr>\n",
       "      <th>1</th>\n",
       "      <td>bulan</td>\n",
       "      <td>int64</td>\n",
       "      <td>0</td>\n",
       "      <td>0.0</td>\n",
       "      <td>12</td>\n",
       "      <td>[10, 8, 3, 6, 1, 5, 12, 9, 2, 7, 4, 11]</td>\n",
       "    </tr>\n",
       "    <tr>\n",
       "      <th>2</th>\n",
       "      <td>jenis</td>\n",
       "      <td>object</td>\n",
       "      <td>0</td>\n",
       "      <td>0.0</td>\n",
       "      <td>3</td>\n",
       "      <td>[BRT, Mikrotrans, Angkutan Umum Integrasi]</td>\n",
       "    </tr>\n",
       "    <tr>\n",
       "      <th>3</th>\n",
       "      <td>kode_trayek</td>\n",
       "      <td>object</td>\n",
       "      <td>0</td>\n",
       "      <td>0.0</td>\n",
       "      <td>131</td>\n",
       "      <td>[9, 8, 7, 6, 5, 4, 3, 2, 13, 12, 11, 10, 1, JAK.88, JAK.85, JAK.84, JAK.80, JAK.77, JAK.75, JAK.74, JAK.73, JAK.72, JAK.71, JAK.64, JAK.61, JAK.60, JAK.59, JAK.58, JAK.56, JAK.54, JAK.53, JAK.52, JAK.51, JAK.50, JAK.49, JAK.47, JAK.46, JAK.45, JAK.44, JAK.43, JAK.42, JAK.41, JAK.40, JAK.39, JAK.38, JAK.37, JAK.36, JAK.35, JAK.34, JAK.33, JAK.32, JAK.31, JAK.30, JAK.29, JAK.28, JAK.27, JAK.26, JAK.25, JAK.24, JAK.22, JAK.21, JAK.20, JAK.19, JAK.18, JAK.17, JAK.16, JAK.15, JAK.14, JAK.13, JAK.12, JAK.117, JAK.112, JAK.11, JAK.10, JAK.09, JAK.08, JAK.07, JAK.06, JAK.05, JAK.04, JAK.03, JAK.02, JAK.01, JAK.10B, JAK.10A, 9H, 9E, 9D, 8K, 8E, 8D, 8C, 7P, 7D, 7B, 7A, 6R, 6N, 6M, 6H, ...]</td>\n",
       "    </tr>\n",
       "    <tr>\n",
       "      <th>4</th>\n",
       "      <td>trayek</td>\n",
       "      <td>object</td>\n",
       "      <td>0</td>\n",
       "      <td>0.0</td>\n",
       "      <td>131</td>\n",
       "      <td>[Pinang Ranti - Pluit, Lebak Bulus - Harmoni, Kampung Rambutan - Kampung Melayu, Ragunan - Dukuh Atas 2, Kampung Melayu - Ancol, Pulo Gadung 2 - Tosari, Kalideres - Pasar Baru, Pulo Gadung 1 - Harmoni, Ciledug - Tendean, Penjaringan - Sunter Bouleverd Barat, Pulo Gebang - Kampung Melayu, Tanjung Priok - PGC 2, Blok M - Kota, Terminal Tanjung Priok - Ancol Barat, Bintara - Cipinang Indah, Terminal Kampung Melayu - Kapin Raya, Rawa Buaya - Rawa Kompeni, Tanjung Priok - Jembatan Item, Cililitan - Kp. Pulo, Terminal Rawamangun - Cipinang Muara, Jambore Cibubur - Pasar Rebo, Kampung Rambutan - Pasar Rebo via Poncol, Kampung Rambutan - Pinang Ranti, Lenteng Agung - Aseli, Cempaka Putih - Pulo Gadung via Kelapa Gading, Kelapa Gading - Rusun Kemayoran, Rawamangun - Tanah Merah, Cilingcing - Rorotan, Grogol - Srengseng, Grogol - Benhil, Grogol - Pos Pengumben via Slipi, Kalideres - Muara Angke, Taman Kota - Budi Luhur, Kalideres - Puri Kembangan, Lebak Bulus - Cipulir, Pasar Minggu - Ciganjur via KB Ragunan, Pasar Minggu - Jagakarsa, Lebak Bulus - Ragunan, Andara - Stasiun Universitas Pancasila, Tongtek - Cililitan, Kampung Melayu - Pondok Kelapa, Kampung Melayu - Pulo Gadung, Harapan Baru - Pulo Gebang via Rawa Kuning, Kalimalang - Duren Sawit, Bulak Ringin - Kampung Rambutan, Cililitan - Condet via Kayu Manis, Cilangkap - Cililitan, Pangkalan  Jati - Rawamangun, Rawamangun - Klender, Pulo Gadung - Kota, Lebak Bulus - Petukangan, Blok M - Andara, Grogol - Meruya via Roxy, Tanjung Priok - Sukapura, Kp. Rambutan - Taman Wiladatika, Pulo Gebang - Rorotan, Rawamangun - Duren Sawit, Kp. Rambutan - Kalisari, Senen - Pulo Gadung via Kelapa Gading, Dwikora - Penas Kalimalang, Cililitan - Dwikora, Cawang UKI - Lubang Buaya, Pinang Ranti - Kampung Rambutan, Kalibata - Kuningan, Senen - Pulo Gadung, Cililitan - Condet, Bulak Turi - Tanjung Priok, Tanah Abang - Meruya, Tanah Abang - Kota Intan via Jembatan Lima, Tanah Abang - Kebayoran Lama via Pos Pengumben, Tanjung Priok - Tanah Merdeka, Terminal Tanah Merah - Pulo Gadung, Tanah Abang - Kebayoran Lama, Tanah Abang - Kota, Roxy Mas - Karet, Roxy - Benhil, Tanah Abang - Grogol via Tawakal, Kampung Rambutan - Pondok Gede, Semper - Rorotan, Grogol - Tubagus Angke, Lebak Bulus - Andara, Kampung Melayu - Duren Sawit, Tanjung Priok - Plumpang, Gondangdia - Cikini via Kramat Raya, Gondangdia - Cikini via Salemba Raya, Cipedak - Blok M, Kebayoran Lama - Jelambar, Pasar Minggu - Tanah Abang, Batu Sari-Tanah Abang, Bintaro - Blok M, Joglo - Blok M, Kebayoran Lama - Tanah Abang, Pondok Kelapa - BKN, Pancoran - TMII, Kampung Rambutan - Blok M, Kampung Rambutan - Lebak Bulus, Ragunan - Stasiun MRT Fatmawati, Ragunan - Blok M via Kemang, Stasiun Manggarai - Blok  M, Senen - Lebak Bulus, ...]</td>\n",
       "    </tr>\n",
       "    <tr>\n",
       "      <th>5</th>\n",
       "      <td>jumlah_penumpang</td>\n",
       "      <td>int64</td>\n",
       "      <td>0</td>\n",
       "      <td>0.0</td>\n",
       "      <td>1420</td>\n",
       "      <td>[670052, 442361, 376261, 348321, 430590, 274326, 466445, 331229, 307410, 140853, 135543, 369184, 903783, 399358, 248009, 211537, 194549, 228704, 147131, 263067, 182122, 160187, 80348, 74753, 213453, 462959, 756064, 508851, 453819, 405083, 494769, 277604, 534617, 412664, 334450, 164012, 166555, 427032, 1013221, 692649, 477804, 405333, 371126, 453222, 276418, 484181, 351897, 315765, 148267, 148933, 393998, 899829, 622613, 419996, 377657, 320411, 400573, 249575, 444971, 323751, 266290, 137793, 134632, 356211, 773717, 663201, 480392, 416381, 351285, 469390, 269533, 496285, 358525, 323662, 138371, 154256, 396760, 937452, 819178, 533221, 402368, 401232, 513138, 319411, 465124, 380760, 337233, 167399, 163776, 419198, 1131439, 576669, 374777, 320701, 294430, 357909, 225026, 398693, 277799, 254820, ...]</td>\n",
       "    </tr>\n",
       "    <tr>\n",
       "      <th>6</th>\n",
       "      <td>kategori_penumpang</td>\n",
       "      <td>object</td>\n",
       "      <td>0</td>\n",
       "      <td>0.0</td>\n",
       "      <td>3</td>\n",
       "      <td>[Padat Penumpang, Ramai Penumpang, Sepi penumpang]</td>\n",
       "    </tr>\n",
       "  </tbody>\n",
       "</table>\n",
       "</div>"
      ],
      "text/plain": [
       "              feature data_type  null_value  %null_value  n_unique   \n",
       "0  tahun               int64     0           0.0          1         \\\n",
       "1  bulan               int64     0           0.0          12         \n",
       "2  jenis               object    0           0.0          3          \n",
       "3  kode_trayek         object    0           0.0          131        \n",
       "4  trayek              object    0           0.0          131        \n",
       "5  jumlah_penumpang    int64     0           0.0          1420       \n",
       "6  kategori_penumpang  object    0           0.0          3          \n",
       "\n",
       "                                                                                                                                                                                                                                                                                                                                                                                                                                                                                                                                                                                                                                                                                                                                                                                                                                                                                                                                                                                                                                                                                                                                                                                                                                                                                                                                                                                                                                                                                                                                                                                                                                                                                                                                                                                                                                                                                                                                                                                                                                                                                                                                                                                                                                                                                                                                                                                                                                                                                                                                                                                                                                                                                                                                                                                                                                                            sample_unique  \n",
       "0  [2021]                                                                                                                                                                                                                                                                                                                                                                                                                                                                                                                                                                                                                                                                                                                                                                                                                                                                                                                                                                                                                                                                                                                                                                                                                                                                                                                                                                                                                                                                                                                                                                                                                                                                                                                                                                                                                                                                                                                                                                                                                                                                                                                                                                                                                                                                                                                                                                                                                                                                                                                                                                                                                                                                                                                                                                                                                                                                  \n",
       "1  [10, 8, 3, 6, 1, 5, 12, 9, 2, 7, 4, 11]                                                                                                                                                                                                                                                                                                                                                                                                                                                                                                                                                                                                                                                                                                                                                                                                                                                                                                                                                                                                                                                                                                                                                                                                                                                                                                                                                                                                                                                                                                                                                                                                                                                                                                                                                                                                                                                                                                                                                                                                                                                                                                                                                                                                                                                                                                                                                                                                                                                                                                                                                                                                                                                                                                                                                                                                                                 \n",
       "2  [BRT, Mikrotrans, Angkutan Umum Integrasi]                                                                                                                                                                                                                                                                                                                                                                                                                                                                                                                                                                                                                                                                                                                                                                                                                                                                                                                                                                                                                                                                                                                                                                                                                                                                                                                                                                                                                                                                                                                                                                                                                                                                                                                                                                                                                                                                                                                                                                                                                                                                                                                                                                                                                                                                                                                                                                                                                                                                                                                                                                                                                                                                                                                                                                                                                              \n",
       "3  [9, 8, 7, 6, 5, 4, 3, 2, 13, 12, 11, 10, 1, JAK.88, JAK.85, JAK.84, JAK.80, JAK.77, JAK.75, JAK.74, JAK.73, JAK.72, JAK.71, JAK.64, JAK.61, JAK.60, JAK.59, JAK.58, JAK.56, JAK.54, JAK.53, JAK.52, JAK.51, JAK.50, JAK.49, JAK.47, JAK.46, JAK.45, JAK.44, JAK.43, JAK.42, JAK.41, JAK.40, JAK.39, JAK.38, JAK.37, JAK.36, JAK.35, JAK.34, JAK.33, JAK.32, JAK.31, JAK.30, JAK.29, JAK.28, JAK.27, JAK.26, JAK.25, JAK.24, JAK.22, JAK.21, JAK.20, JAK.19, JAK.18, JAK.17, JAK.16, JAK.15, JAK.14, JAK.13, JAK.12, JAK.117, JAK.112, JAK.11, JAK.10, JAK.09, JAK.08, JAK.07, JAK.06, JAK.05, JAK.04, JAK.03, JAK.02, JAK.01, JAK.10B, JAK.10A, 9H, 9E, 9D, 8K, 8E, 8D, 8C, 7P, 7D, 7B, 7A, 6R, 6N, 6M, 6H, ...]                                                                                                                                                                                                                                                                                                                                                                                                                                                                                                                                                                                                                                                                                                                                                                                                                                                                                                                                                                                                                                                                                                                                                                                                                                                                                                                                                                                                                                                                                                                                                                                                                                                                                                                                                                                                                                                                                                                                                                                                                                                                                                                                                        \n",
       "4  [Pinang Ranti - Pluit, Lebak Bulus - Harmoni, Kampung Rambutan - Kampung Melayu, Ragunan - Dukuh Atas 2, Kampung Melayu - Ancol, Pulo Gadung 2 - Tosari, Kalideres - Pasar Baru, Pulo Gadung 1 - Harmoni, Ciledug - Tendean, Penjaringan - Sunter Bouleverd Barat, Pulo Gebang - Kampung Melayu, Tanjung Priok - PGC 2, Blok M - Kota, Terminal Tanjung Priok - Ancol Barat, Bintara - Cipinang Indah, Terminal Kampung Melayu - Kapin Raya, Rawa Buaya - Rawa Kompeni, Tanjung Priok - Jembatan Item, Cililitan - Kp. Pulo, Terminal Rawamangun - Cipinang Muara, Jambore Cibubur - Pasar Rebo, Kampung Rambutan - Pasar Rebo via Poncol, Kampung Rambutan - Pinang Ranti, Lenteng Agung - Aseli, Cempaka Putih - Pulo Gadung via Kelapa Gading, Kelapa Gading - Rusun Kemayoran, Rawamangun - Tanah Merah, Cilingcing - Rorotan, Grogol - Srengseng, Grogol - Benhil, Grogol - Pos Pengumben via Slipi, Kalideres - Muara Angke, Taman Kota - Budi Luhur, Kalideres - Puri Kembangan, Lebak Bulus - Cipulir, Pasar Minggu - Ciganjur via KB Ragunan, Pasar Minggu - Jagakarsa, Lebak Bulus - Ragunan, Andara - Stasiun Universitas Pancasila, Tongtek - Cililitan, Kampung Melayu - Pondok Kelapa, Kampung Melayu - Pulo Gadung, Harapan Baru - Pulo Gebang via Rawa Kuning, Kalimalang - Duren Sawit, Bulak Ringin - Kampung Rambutan, Cililitan - Condet via Kayu Manis, Cilangkap - Cililitan, Pangkalan  Jati - Rawamangun, Rawamangun - Klender, Pulo Gadung - Kota, Lebak Bulus - Petukangan, Blok M - Andara, Grogol - Meruya via Roxy, Tanjung Priok - Sukapura, Kp. Rambutan - Taman Wiladatika, Pulo Gebang - Rorotan, Rawamangun - Duren Sawit, Kp. Rambutan - Kalisari, Senen - Pulo Gadung via Kelapa Gading, Dwikora - Penas Kalimalang, Cililitan - Dwikora, Cawang UKI - Lubang Buaya, Pinang Ranti - Kampung Rambutan, Kalibata - Kuningan, Senen - Pulo Gadung, Cililitan - Condet, Bulak Turi - Tanjung Priok, Tanah Abang - Meruya, Tanah Abang - Kota Intan via Jembatan Lima, Tanah Abang - Kebayoran Lama via Pos Pengumben, Tanjung Priok - Tanah Merdeka, Terminal Tanah Merah - Pulo Gadung, Tanah Abang - Kebayoran Lama, Tanah Abang - Kota, Roxy Mas - Karet, Roxy - Benhil, Tanah Abang - Grogol via Tawakal, Kampung Rambutan - Pondok Gede, Semper - Rorotan, Grogol - Tubagus Angke, Lebak Bulus - Andara, Kampung Melayu - Duren Sawit, Tanjung Priok - Plumpang, Gondangdia - Cikini via Kramat Raya, Gondangdia - Cikini via Salemba Raya, Cipedak - Blok M, Kebayoran Lama - Jelambar, Pasar Minggu - Tanah Abang, Batu Sari-Tanah Abang, Bintaro - Blok M, Joglo - Blok M, Kebayoran Lama - Tanah Abang, Pondok Kelapa - BKN, Pancoran - TMII, Kampung Rambutan - Blok M, Kampung Rambutan - Lebak Bulus, Ragunan - Stasiun MRT Fatmawati, Ragunan - Blok M via Kemang, Stasiun Manggarai - Blok  M, Senen - Lebak Bulus, ...]  \n",
       "5  [670052, 442361, 376261, 348321, 430590, 274326, 466445, 331229, 307410, 140853, 135543, 369184, 903783, 399358, 248009, 211537, 194549, 228704, 147131, 263067, 182122, 160187, 80348, 74753, 213453, 462959, 756064, 508851, 453819, 405083, 494769, 277604, 534617, 412664, 334450, 164012, 166555, 427032, 1013221, 692649, 477804, 405333, 371126, 453222, 276418, 484181, 351897, 315765, 148267, 148933, 393998, 899829, 622613, 419996, 377657, 320411, 400573, 249575, 444971, 323751, 266290, 137793, 134632, 356211, 773717, 663201, 480392, 416381, 351285, 469390, 269533, 496285, 358525, 323662, 138371, 154256, 396760, 937452, 819178, 533221, 402368, 401232, 513138, 319411, 465124, 380760, 337233, 167399, 163776, 419198, 1131439, 576669, 374777, 320701, 294430, 357909, 225026, 398693, 277799, 254820, ...]                                                                                                                                                                                                                                                                                                                                                                                                                                                                                                                                                                                                                                                                                                                                                                                                                                                                                                                                                                                                                                                                                                                                                                                                                                                                                                                                                                                                                                                                                                                                                                                                                                                                                                                                                                                                                                                                                                                                                                                                                                   \n",
       "6  [Padat Penumpang, Ramai Penumpang, Sepi penumpang]                                                                                                                                                                                                                                                                                                                                                                                                                                                                                                                                                                                                                                                                                                                                                                                                                                                                                                                                                                                                                                                                                                                                                                                                                                                                                                                                                                                                                                                                                                                                                                                                                                                                                                                                                                                                                                                                                                                                                                                                                                                                                                                                                                                                                                                                                                                                                                                                                                                                                                                                                                                                                                                                                                                                                                                                                      "
      ]
     },
     "execution_count": 146,
     "metadata": {},
     "output_type": "execute_result"
    }
   ],
   "source": [
    "pd.DataFrame(\n",
    "    {\n",
    "    'feature': dfNew.columns.values,\n",
    "    'data_type': dfNew.dtypes.values,\n",
    "    'null_value': [dfNew[col].isna().sum() for col in dfNew.columns],\n",
    "    '%null_value': dfNew.isna().mean().values * 100,\n",
    "    'n_unique': dfNew.nunique().values,\n",
    "    'sample_unique': [dfNew[col].unique() for col in dfNew.columns]\n",
    "    }\n",
    ")"
   ]
  },
  {
   "attachments": {},
   "cell_type": "markdown",
   "metadata": {},
   "source": [
    "Sebelum melakukan cleansing data, dataset Transjakarta Passenger memiliki 6 kolom dan 1473 baris. Setelah dilakukan cleansing data, terdapat penambahan 1 kolom `kategori_penumpang` yang digunakan untuk menghandle outlier yang ada pada `jumlah_penumpang`."
   ]
  },
  {
   "attachments": {},
   "cell_type": "markdown",
   "metadata": {},
   "source": [
    "#### Dataset Pulo Gadung"
   ]
  },
  {
   "cell_type": "code",
   "execution_count": 152,
   "metadata": {},
   "outputs": [
    {
     "data": {
      "text/html": [
       "<div>\n",
       "<style scoped>\n",
       "    .dataframe tbody tr th:only-of-type {\n",
       "        vertical-align: middle;\n",
       "    }\n",
       "\n",
       "    .dataframe tbody tr th {\n",
       "        vertical-align: top;\n",
       "    }\n",
       "\n",
       "    .dataframe thead th {\n",
       "        text-align: right;\n",
       "    }\n",
       "</style>\n",
       "<table border=\"1\" class=\"dataframe\">\n",
       "  <thead>\n",
       "    <tr style=\"text-align: right;\">\n",
       "      <th></th>\n",
       "      <th>tahun</th>\n",
       "      <th>bulan</th>\n",
       "      <th>jenis</th>\n",
       "      <th>kode_trayek</th>\n",
       "      <th>trayek</th>\n",
       "      <th>jumlah_penumpang</th>\n",
       "    </tr>\n",
       "  </thead>\n",
       "  <tbody>\n",
       "    <tr>\n",
       "      <th>0</th>\n",
       "      <td>2021</td>\n",
       "      <td>1</td>\n",
       "      <td>Mikrotrans</td>\n",
       "      <td>JAK.17</td>\n",
       "      <td>Senen - Pulo Gadung</td>\n",
       "      <td>33859</td>\n",
       "    </tr>\n",
       "    <tr>\n",
       "      <th>1</th>\n",
       "      <td>2021</td>\n",
       "      <td>1</td>\n",
       "      <td>Mikrotrans</td>\n",
       "      <td>JAK.33</td>\n",
       "      <td>Pulo Gadung - Kota</td>\n",
       "      <td>46531</td>\n",
       "    </tr>\n",
       "    <tr>\n",
       "      <th>2</th>\n",
       "      <td>2021</td>\n",
       "      <td>1</td>\n",
       "      <td>Mikrotrans</td>\n",
       "      <td>JAK.24</td>\n",
       "      <td>Senen - Pulo Gadung via Kelapa Gading</td>\n",
       "      <td>68914</td>\n",
       "    </tr>\n",
       "    <tr>\n",
       "      <th>3</th>\n",
       "      <td>2021</td>\n",
       "      <td>1</td>\n",
       "      <td>Mikrotrans</td>\n",
       "      <td>JAK.112</td>\n",
       "      <td>Terminal Tanah Merah - Pulo Gadung</td>\n",
       "      <td>52710</td>\n",
       "    </tr>\n",
       "    <tr>\n",
       "      <th>4</th>\n",
       "      <td>2021</td>\n",
       "      <td>1</td>\n",
       "      <td>BRT</td>\n",
       "      <td>4</td>\n",
       "      <td>Pulo Gadung 2 - Tosari</td>\n",
       "      <td>249575</td>\n",
       "    </tr>\n",
       "  </tbody>\n",
       "</table>\n",
       "</div>"
      ],
      "text/plain": [
       "   tahun  bulan       jenis kode_trayek   \n",
       "0  2021   1      Mikrotrans  JAK.17      \\\n",
       "1  2021   1      Mikrotrans  JAK.33       \n",
       "2  2021   1      Mikrotrans  JAK.24       \n",
       "3  2021   1      Mikrotrans  JAK.112      \n",
       "4  2021   1      BRT         4            \n",
       "\n",
       "                                  trayek  jumlah_penumpang  \n",
       "0  Senen - Pulo Gadung                    33859             \n",
       "1  Pulo Gadung - Kota                     46531             \n",
       "2  Senen - Pulo Gadung via Kelapa Gading  68914             \n",
       "3  Terminal Tanah Merah - Pulo Gadung     52710             \n",
       "4  Pulo Gadung 2 - Tosari                 249575            "
      ]
     },
     "execution_count": 152,
     "metadata": {},
     "output_type": "execute_result"
    }
   ],
   "source": [
    "dfPG = df[df.trayek.str.contains('Pulo Gadung')]\n",
    "dfPG = dfPG.sort_values('bulan', ascending=True)\n",
    "dfPG = dfPG.reset_index(drop=True)\n",
    "dfPG.head()"
   ]
  },
  {
   "attachments": {},
   "cell_type": "markdown",
   "metadata": {},
   "source": [
    "## **Saving Data**"
   ]
  },
  {
   "cell_type": "code",
   "execution_count": 147,
   "metadata": {},
   "outputs": [
    {
     "data": {
      "text/plain": [
       "['cobacleaning.ipynb',\n",
       " '.DS_Store',\n",
       " 'trayek transjakarta.xlsx',\n",
       " 'TransJakarta Passengers 2021.csv',\n",
       " 'cleaned_data.csv',\n",
       " 'data exploration.ipynb',\n",
       " 'kode trayek transjakarta.docx',\n",
       " 'transjakarta analysis.ipynb']"
      ]
     },
     "execution_count": 147,
     "metadata": {},
     "output_type": "execute_result"
    }
   ],
   "source": [
    "import os\n",
    "os.listdir()"
   ]
  },
  {
   "cell_type": "code",
   "execution_count": 148,
   "metadata": {},
   "outputs": [],
   "source": [
    "dfNew.to_csv(f'../../../Purwadhika/Project/Capstone Project 2/cleaned_data.csv')"
   ]
  },
  {
   "cell_type": "code",
   "execution_count": 153,
   "metadata": {},
   "outputs": [],
   "source": [
    "dfPG.to_csv(f'../../../Purwadhika/Project/Capstone Project 2/cleanedDataPG.csv')"
   ]
  },
  {
   "cell_type": "code",
   "execution_count": null,
   "metadata": {},
   "outputs": [],
   "source": []
  }
 ],
 "metadata": {
  "kernelspec": {
   "display_name": "Python 3",
   "language": "python",
   "name": "python3"
  },
  "language_info": {
   "codemirror_mode": {
    "name": "ipython",
    "version": 3
   },
   "file_extension": ".py",
   "mimetype": "text/x-python",
   "name": "python",
   "nbconvert_exporter": "python",
   "pygments_lexer": "ipython3",
   "version": "3.9.16"
  },
  "orig_nbformat": 4
 },
 "nbformat": 4,
 "nbformat_minor": 2
}
